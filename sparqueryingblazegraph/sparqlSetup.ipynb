{
 "cells": [
  {
   "cell_type": "code",
   "execution_count": 38,
   "metadata": {
    "colab": {
     "base_uri": "https://localhost:8080/"
    },
    "id": "XL8j-Hygei3f",
    "outputId": "fbd09cfb-5549-4254-ced5-eb72b3eb365c"
   },
   "outputs": [
    {
     "name": "stdout",
     "output_type": "stream",
     "text": [
      "Requirement already satisfied: rdflib in /Users/ridwanolawin/opt/anaconda3/lib/python3.9/site-packages (6.2.0)\n",
      "Requirement already satisfied: pyparsing in /Users/ridwanolawin/opt/anaconda3/lib/python3.9/site-packages (from rdflib) (3.0.4)\n",
      "Requirement already satisfied: isodate in /Users/ridwanolawin/opt/anaconda3/lib/python3.9/site-packages (from rdflib) (0.6.1)\n",
      "Requirement already satisfied: setuptools in /Users/ridwanolawin/opt/anaconda3/lib/python3.9/site-packages (from rdflib) (58.0.4)\n",
      "Requirement already satisfied: six in /Users/ridwanolawin/opt/anaconda3/lib/python3.9/site-packages (from isodate->rdflib) (1.16.0)\n",
      "Requirement already satisfied: pymantic in /Users/ridwanolawin/opt/anaconda3/lib/python3.9/site-packages (0.3.0)\n",
      "Requirement already satisfied: lark-parser<0.12.0,>=0.11.1 in /Users/ridwanolawin/opt/anaconda3/lib/python3.9/site-packages (from pymantic) (0.11.3)\n",
      "Requirement already satisfied: pyld in /Users/ridwanolawin/opt/anaconda3/lib/python3.9/site-packages (from pymantic) (2.0.3)\n",
      "Requirement already satisfied: pytz in /Users/ridwanolawin/opt/anaconda3/lib/python3.9/site-packages (from pymantic) (2021.3)\n",
      "Requirement already satisfied: rdflib in /Users/ridwanolawin/opt/anaconda3/lib/python3.9/site-packages (from pymantic) (6.2.0)\n",
      "Requirement already satisfied: lxml in /Users/ridwanolawin/opt/anaconda3/lib/python3.9/site-packages (from pymantic) (4.6.3)\n",
      "Requirement already satisfied: requests in /Users/ridwanolawin/opt/anaconda3/lib/python3.9/site-packages (from pymantic) (2.25.1)\n",
      "Requirement already satisfied: frozendict in /Users/ridwanolawin/opt/anaconda3/lib/python3.9/site-packages (from pyld->pymantic) (2.3.4)\n",
      "Requirement already satisfied: cachetools in /Users/ridwanolawin/opt/anaconda3/lib/python3.9/site-packages (from pyld->pymantic) (5.0.0)\n",
      "Requirement already satisfied: setuptools in /Users/ridwanolawin/opt/anaconda3/lib/python3.9/site-packages (from rdflib->pymantic) (58.0.4)\n",
      "Requirement already satisfied: pyparsing in /Users/ridwanolawin/opt/anaconda3/lib/python3.9/site-packages (from rdflib->pymantic) (3.0.4)\n",
      "Requirement already satisfied: isodate in /Users/ridwanolawin/opt/anaconda3/lib/python3.9/site-packages (from rdflib->pymantic) (0.6.1)\n",
      "Requirement already satisfied: six in /Users/ridwanolawin/opt/anaconda3/lib/python3.9/site-packages (from isodate->rdflib->pymantic) (1.16.0)\n",
      "Requirement already satisfied: certifi>=2017.4.17 in /Users/ridwanolawin/opt/anaconda3/lib/python3.9/site-packages (from requests->pymantic) (2021.10.8)\n",
      "Requirement already satisfied: chardet<5,>=3.0.2 in /Users/ridwanolawin/opt/anaconda3/lib/python3.9/site-packages (from requests->pymantic) (4.0.0)\n",
      "Requirement already satisfied: idna<3,>=2.5 in /Users/ridwanolawin/opt/anaconda3/lib/python3.9/site-packages (from requests->pymantic) (2.10)\n",
      "Requirement already satisfied: urllib3<1.27,>=1.21.1 in /Users/ridwanolawin/opt/anaconda3/lib/python3.9/site-packages (from requests->pymantic) (1.26.7)\n",
      "Requirement already satisfied: SPARQLWrapper in /Users/ridwanolawin/opt/anaconda3/lib/python3.9/site-packages (2.0.0)\n",
      "Requirement already satisfied: rdflib>=6.1.1 in /Users/ridwanolawin/opt/anaconda3/lib/python3.9/site-packages (from SPARQLWrapper) (6.2.0)\n",
      "Requirement already satisfied: pyparsing in /Users/ridwanolawin/opt/anaconda3/lib/python3.9/site-packages (from rdflib>=6.1.1->SPARQLWrapper) (3.0.4)\n",
      "Requirement already satisfied: isodate in /Users/ridwanolawin/opt/anaconda3/lib/python3.9/site-packages (from rdflib>=6.1.1->SPARQLWrapper) (0.6.1)\n",
      "Requirement already satisfied: setuptools in /Users/ridwanolawin/opt/anaconda3/lib/python3.9/site-packages (from rdflib>=6.1.1->SPARQLWrapper) (58.0.4)\n",
      "Requirement already satisfied: six in /Users/ridwanolawin/opt/anaconda3/lib/python3.9/site-packages (from isodate->rdflib>=6.1.1->SPARQLWrapper) (1.16.0)\n"
     ]
    }
   ],
   "source": [
    "!pip install rdflib\n",
    "!pip install pymantic\n",
    "!pip install SPARQLWrapper"
   ]
  },
  {
   "cell_type": "code",
   "execution_count": 39,
   "metadata": {
    "id": "hagkqK7seowP"
   },
   "outputs": [],
   "source": [
    "from rdflib import Graph, Literal, RDF, URIRef, Namespace\n",
    "from rdflib.namespace import FOAF , XSD, RDF\n",
    "import json\n",
    "from pymantic import sparql\n",
    "\n",
    "data_onto = './stanfordopenie_ontology.json'\n",
    "data_triples = './stanfordOpenIE_allfilters.json'"
   ]
  },
  {
   "cell_type": "code",
   "execution_count": 41,
   "metadata": {
    "id": "qFv4JeTBxGw7"
   },
   "outputs": [],
   "source": [
    "with open (data_triples) as f:\n",
    "    triplets = json.load(f)\n",
    "\n",
    "with open(data_onto) as f:\n",
    "  allKeys = json.load(f)\n",
    "  entityOnto = allKeys['entities']\n",
    "  relationOnto = allKeys['relation']"
   ]
  },
  {
   "cell_type": "code",
   "execution_count": 42,
   "metadata": {
    "id": "LMQYR8JhyD1z"
   },
   "outputs": [],
   "source": [
    "cryptoBaseUri = \"http://crypto.org/\"\n",
    "allNameSpace = {}\n",
    "g = Graph()\n",
    "nm = g.namespace_manager\n",
    "newTriplets = []\n",
    "\n",
    "for s, p, o in triplets:\n",
    "  subjClass = entityOnto[s]\n",
    "  predClass = relationOnto[p]\n",
    "  predClass = \"_\".join(predClass.split()) if len(predClass.split()) > 1 else predClass\n",
    "  objClass = entityOnto[o]\n",
    "  subjUri = cryptoBaseUri+subjClass+\"/\"\n",
    "  predUri = cryptoBaseUri+predClass+\"/\"\n",
    "  objUri = cryptoBaseUri+objClass+\"/\"\n",
    "  if subjUri not in allNameSpace:\n",
    "    allNameSpace[subjUri] = Namespace(subjUri)\n",
    "    prefixSub = subjClass\n",
    "    nm.bind(prefixSub, allNameSpace[subjUri])\n",
    "\n",
    "  if objUri not in allNameSpace:\n",
    "    allNameSpace[objUri] = Namespace(objUri)\n",
    "    prefixObj = objClass\n",
    "    nm.bind(prefixObj, allNameSpace[objUri])\n",
    "  \n",
    "  if predUri not in allNameSpace:\n",
    "    allNameSpace[predUri] = Namespace(predUri)\n",
    "    prefixPred = predClass\n",
    "    nm.bind(prefixPred, allNameSpace[predUri])\n",
    "\n",
    "  if len(s.split()) > 1:\n",
    "    s = \"_\".join(s.split())\n",
    "  if len(o.split()) > 1:\n",
    "    o = \"_\".join(o.split()) \n",
    "  if len(p.split()) > 1:\n",
    "    p = \"_\".join(p.split())\n",
    "  s = allNameSpace[subjUri][s] \n",
    "  o = allNameSpace[objUri][o]\n",
    "  p = allNameSpace[predUri][p]\n",
    "  g.add((s, p, o))\n",
    "  newTriplets.append([s,p,o])\n",
    "  g.add((s, RDF.type, (Literal(subjClass, datatype=XSD.string))))\n",
    "  g.add((p, RDF.type, (Literal(predClass, datatype=XSD.string))))\n",
    "  g.add((o, RDF.type, (Literal(objClass, datatype=XSD.string))))"
   ]
  },
  {
   "cell_type": "code",
   "execution_count": 95,
   "metadata": {
    "colab": {
     "base_uri": "https://localhost:8080/"
    },
    "id": "k_2a8OJPFTXi",
    "outputId": "9ab165b6-0448-43fd-e397-80fee465e755"
   },
   "outputs": [],
   "source": [
    "# JUST PRINTING SOME OF THE CLASSES\n",
    "\n",
    "# for s, p, o in triplets:\n",
    "#     subjClass = entityOnto[s]\n",
    "#     predClass = relationOnto[p]\n",
    "#     predClass = \"_\".join(predClass.split()) if len(predClass.split()) > 1 else predClass\n",
    "#     objClass = entityOnto[o]\n",
    "#     if \"cryptocurrency Bit\" in s: \n",
    "#         print(s,\";\", p,\";\", o,\";\")\n",
    "#         print(subjClass,\";\", predClass,\";\", objClass,\";\")"
   ]
  },
  {
   "cell_type": "code",
   "execution_count": 46,
   "metadata": {
    "id": "WvvfcC7sG7a-"
   },
   "outputs": [],
   "source": [
    "res = g.serialize(format='n3')\n",
    "with open('./stanfordopenie.n3', mode = 'w') as f:\n",
    "  f.write(res)"
   ]
  },
  {
   "cell_type": "code",
   "execution_count": 54,
   "metadata": {
    "colab": {
     "base_uri": "https://localhost:8080/",
     "height": 657
    },
    "id": "6sH3kbTBIdF6",
    "outputId": "05dc628c-5b0a-4dce-c9bd-b57cb83d96b7"
   },
   "outputs": [
    {
     "data": {
      "text/plain": [
       "<Response [200]>"
      ]
     },
     "execution_count": 54,
     "metadata": {},
     "output_type": "execute_result"
    }
   ],
   "source": [
    "# Make the server connection to the local blazegraph\n",
    "# input: sparql endpoint (this input is fixed)\n",
    "server = sparql.SPARQLServer('http://localhost:9999/blazegraph/sparql') \n",
    "\n",
    "# Update the blazegraph with new triplets saved as stanfordopenie.n3\n",
    "# input: file path\n",
    "server.update('load <file:/Users/ridwanolawin/Downloads/stanfordopenie.n3>') "
   ]
  },
  {
   "cell_type": "code",
   "execution_count": 50,
   "metadata": {},
   "outputs": [],
   "source": [
    "# Main function needed\n",
    "def retrieveResults(sparqlQuery, server = server):\n",
    "    result = server.query(sparqlQuery)\n",
    "    def allTrip(val):\n",
    "        ans = []\n",
    "        for i in newTriplets:\n",
    "            if str(i[0]) == val or str(i[2]) == val:\n",
    "                ans.append(i)\n",
    "        return ans\n",
    "\n",
    "\n",
    "    finalAns = []\n",
    "    for b in result['results']['bindings']:\n",
    "        for rel, val in b.items():\n",
    "            finalAns.append(val['value'])\n",
    "\n",
    "    allEnt = list(set(list(entityOnto.values())))\n",
    "    finalTrip = [] #contains triplets we need\n",
    "    flag = False\n",
    "    for b in result['results']['bindings']:\n",
    "        if 's' in b.keys() or 'o' in b.keys():\n",
    "            flag = True\n",
    "            for ele in list(b.values()):\n",
    "                temp = ele['value']\n",
    "                if len(temp.split(\"/\")) == 5:\n",
    "                    newTemp = temp.split(\"/\")[-2]\n",
    "                    if newTemp in allEnt:\n",
    "                        finalTrip.extend(allTrip(temp))\n",
    "\n",
    "    finalDict = {}\n",
    "    finalDict['result'] = finalAns\n",
    "    finalDict['visualization'] = finalTrip\n",
    "    if flag:\n",
    "        finalDict['type'] = \"entity\"\n",
    "    else:\n",
    "        finalDict['type'] = \"relation\"\n",
    "    return finalDict"
   ]
  },
  {
   "cell_type": "code",
   "execution_count": null,
   "metadata": {},
   "outputs": [],
   "source": [
    "# list of queries coming from Arnav\n",
    "for query in listOfQuer:\n",
    "    finalDictVal = retrieveResults(query, server = server)"
   ]
  },
  {
   "cell_type": "code",
   "execution_count": null,
   "metadata": {},
   "outputs": [],
   "source": [
    "# Testing on queries from Arnav\n",
    "\n",
    "# quer = 'select * where {?s CRYPTO:structure_of ?o }'\n",
    "# quer1 = 'SELECT ?o ?p WHERE {<http://crypto.org/ORG/Dániel_Kondor> ?p ?o.}'\n",
    "# quer = 'SELECT ?o WHERE {<http://crypto.org/ORG/Dániel_Kondor> ?p ?o.}'\n",
    "# listOfQuer = [quer, quer1]\n",
    "# quer = 'SELECT (count(*) as ?count) WHERE {<http://crypto.org/ORG/Dániel_Kondor> <http://crypto.org/IS_AUTHOR_OF/is_author_of> ?o.}'\n",
    "\n",
    "\n",
    "# quer = 'SELECT (count(?o) as ?count) WHERE {<http://crypto.org/PERSON/Ramit_Sawhney> <http://crypto.org/YIELD/propose> ?o.}'\n",
    "# result = server.query(quer)\n",
    "\n",
    "# for b in result['results']['bindings']:\n",
    "#     print(b)"
   ]
  }
 ],
 "metadata": {
  "colab": {
   "provenance": []
  },
  "kernelspec": {
   "display_name": "Python 3 (ipykernel)",
   "language": "python",
   "name": "python3"
  },
  "language_info": {
   "codemirror_mode": {
    "name": "ipython",
    "version": 3
   },
   "file_extension": ".py",
   "mimetype": "text/x-python",
   "name": "python",
   "nbconvert_exporter": "python",
   "pygments_lexer": "ipython3",
   "version": "3.9.7"
  }
 },
 "nbformat": 4,
 "nbformat_minor": 1
}
