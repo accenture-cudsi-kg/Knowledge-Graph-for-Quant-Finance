{
 "cells": [
  {
   "cell_type": "code",
   "execution_count": 1,
   "metadata": {
    "execution": {
     "iopub.execute_input": "2022-10-22T15:36:35.262177Z",
     "iopub.status.busy": "2022-10-22T15:36:35.261516Z",
     "iopub.status.idle": "2022-10-22T15:36:35.560813Z",
     "shell.execute_reply": "2022-10-22T15:36:35.559675Z",
     "shell.execute_reply.started": "2022-10-22T15:36:35.262039Z"
    },
    "scrolled": true
   },
   "outputs": [],
   "source": [
    "import pandas as pd \n",
    "import numpy as np \n",
    "import sys\n",
    "import dask.bag as db\n",
    "\n",
    "import json\n",
    "import dask.bag as db\n",
    "import os\n",
    "\n",
    "sys.path.append(\"..\")\n",
    "\n",
    "from pathlib import Path\n",
    "\n",
    "import json"
   ]
  },
  {
   "cell_type": "markdown",
   "metadata": {},
   "source": [
    "NOTE: The input data must be downloaded first from https://www.kaggle.com/datasets/Cornell-University/arxiv"
   ]
  },
  {
   "cell_type": "code",
   "execution_count": 2,
   "metadata": {
    "execution": {
     "iopub.execute_input": "2022-10-22T15:36:37.789360Z",
     "iopub.status.busy": "2022-10-22T15:36:37.788198Z",
     "iopub.status.idle": "2022-10-22T15:37:42.862963Z",
     "shell.execute_reply": "2022-10-22T15:37:42.861546Z",
     "shell.execute_reply.started": "2022-10-22T15:36:37.789321Z"
    }
   },
   "outputs": [],
   "source": [
    "ai_category_list=['q-fin']\n",
    "records=db.read_text(\"../input/arxiv/arxiv-metadata-oai-snapshot.json\").map(lambda x:json.loads(x))\n",
    "ai_docs = (records.filter(lambda x:any(ele in x['categories'] for ele in ai_category_list)==True))\n",
    "get_metadata = lambda x: {'id': x['id'],\n",
    "                  'title': x['title'],\n",
    "                  'category':x['categories'],\n",
    "                  'abstract':x['abstract'],\n",
    "                 'version':x['versions'][-1]['created'],\n",
    "                         'doi':x[\"doi\"],\n",
    "                         'authors_parsed':x['authors_parsed']}\n",
    "\n",
    "data=ai_docs.map(get_metadata).to_dataframe().compute()"
   ]
  },
  {
   "cell_type": "code",
   "execution_count": 3,
   "metadata": {
    "execution": {
     "iopub.execute_input": "2022-10-22T15:37:42.865652Z",
     "iopub.status.busy": "2022-10-22T15:37:42.864786Z",
     "iopub.status.idle": "2022-10-22T15:37:42.875291Z",
     "shell.execute_reply": "2022-10-22T15:37:42.874181Z",
     "shell.execute_reply.started": "2022-10-22T15:37:42.865602Z"
    }
   },
   "outputs": [
    {
     "data": {
      "text/plain": [
       "(15741, 7)"
      ]
     },
     "execution_count": 3,
     "metadata": {},
     "output_type": "execute_result"
    }
   ],
   "source": [
    "data.shape"
   ]
  },
  {
   "cell_type": "code",
   "execution_count": 11,
   "metadata": {},
   "outputs": [],
   "source": [
    "search_original = \"cryptocurrency|bitcoin|ethereum\"\n",
    "cryptocurrency = data.loc[data['title'].str.contains(search_original, case=False)]\n",
    "original = list(cryptocurrency['id'])"
   ]
  },
  {
   "cell_type": "code",
   "execution_count": 18,
   "metadata": {},
   "outputs": [],
   "source": [
    "search_expanded = \"cryptocurrency|bitcoin|ethereum|Ether|solana|Avalanche|Tether \\\n",
    "|BNB|Binance|Dodecoin|Polygon|XRP|Cordano|USD Coin|uniswap|FTX|digital currency| \\\n",
    "digital asset\"\n",
    "cryptocurrency = data.loc[data['title'].str.contains(search_expanded, case=False)]\n",
    "expanded = list(cryptocurrency['id'])"
   ]
  },
  {
   "cell_type": "code",
   "execution_count": 19,
   "metadata": {},
   "outputs": [
    {
     "name": "stdout",
     "output_type": "stream",
     "text": [
      "245\n",
      "209\n"
     ]
    },
    {
     "data": {
      "text/plain": [
       "['0705.4329',\n",
       " '0907.3273',\n",
       " '1010.4990',\n",
       " '1104.0777',\n",
       " '1205.1617',\n",
       " '1307.2181',\n",
       " '1309.3639',\n",
       " '1506.05911',\n",
       " '1611.05688',\n",
       " '1701.00993',\n",
       " '1805.12101',\n",
       " '1810.06696',\n",
       " '1911.03380',\n",
       " '2005.12949',\n",
       " '2005.14631',\n",
       " '2006.03023',\n",
       " '2010.01241',\n",
       " '2010.07404',\n",
       " '2010.15611',\n",
       " '2011.05839',\n",
       " '2101.00281',\n",
       " '2102.03172',\n",
       " '2102.11807',\n",
       " '2103.00254',\n",
       " '2104.10973',\n",
       " '2106.10012',\n",
       " '2106.14404',\n",
       " '2109.02452',\n",
       " '2110.09429',\n",
       " '2111.09192',\n",
       " '2112.09783',\n",
       " '2203.07774',\n",
       " '2205.08904',\n",
       " '2208.09642',\n",
       " 'physics/0507101',\n",
       " 'physics/0601171']"
      ]
     },
     "execution_count": 19,
     "metadata": {},
     "output_type": "execute_result"
    }
   ],
   "source": [
    "print(len(expanded))\n",
    "print(len(original))\n",
    "new = list(filter(lambda x: x not in original, expanded))\n",
    "new"
   ]
  },
  {
   "cell_type": "code",
   "execution_count": 17,
   "metadata": {},
   "outputs": [
    {
     "data": {
      "text/plain": [
       "{'cryptocurrency': 87,\n",
       " 'bitcoin': 122,\n",
       " 'ethereum': 5,\n",
       " 'Ether': 19,\n",
       " 'solana': 0,\n",
       " 'Avalanche': 5,\n",
       " 'Tether ': 1,\n",
       " 'BNB': 4,\n",
       " 'Binance': 1,\n",
       " 'Dodecoin': 0,\n",
       " 'Polygon': 0,\n",
       " 'XRP': 1,\n",
       " 'Cordano': 0,\n",
       " 'USD Coin': 0,\n",
       " 'uniswap': 6,\n",
       " 'FTX': 0,\n",
       " 'digital currency': 5,\n",
       " 'digital asset': 5}"
      ]
     },
     "execution_count": 17,
     "metadata": {},
     "output_type": "execute_result"
    }
   ],
   "source": [
    "count = {}\n",
    "for term in search_expanded.split('|'):\n",
    "    count[term] = len(data[data['title'].str.contains(term, case=False)])\n",
    "count   "
   ]
  }
 ],
 "metadata": {
  "kernelspec": {
   "display_name": "Python 3 (ipykernel)",
   "language": "python",
   "name": "python3"
  },
  "language_info": {
   "codemirror_mode": {
    "name": "ipython",
    "version": 3
   },
   "file_extension": ".py",
   "mimetype": "text/x-python",
   "name": "python",
   "nbconvert_exporter": "python",
   "pygments_lexer": "ipython3",
   "version": "3.9.12"
  }
 },
 "nbformat": 4,
 "nbformat_minor": 4
}
