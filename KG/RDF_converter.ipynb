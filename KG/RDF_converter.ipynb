{
  "nbformat": 4,
  "nbformat_minor": 0,
  "metadata": {
    "colab": {
      "provenance": [],
      "collapsed_sections": []
    },
    "kernelspec": {
      "name": "python3",
      "display_name": "Python 3"
    },
    "language_info": {
      "name": "python"
    }
  },
  "cells": [
    {
      "cell_type": "code",
      "source": [
        "!pip install rdflib"
      ],
      "metadata": {
        "id": "xs01JI8p-bhj",
        "colab": {
          "base_uri": "https://localhost:8080/"
        },
        "outputId": "2c906fd8-115c-4fbe-c196-2c409943c3c6"
      },
      "execution_count": null,
      "outputs": [
        {
          "output_type": "stream",
          "name": "stdout",
          "text": [
            "Looking in indexes: https://pypi.org/simple, https://us-python.pkg.dev/colab-wheels/public/simple/\n",
            "Collecting rdflib\n",
            "  Downloading rdflib-6.2.0-py3-none-any.whl (500 kB)\n",
            "\u001b[K     |████████████████████████████████| 500 kB 21.5 MB/s \n",
            "\u001b[?25hRequirement already satisfied: setuptools in /usr/local/lib/python3.7/dist-packages (from rdflib) (57.4.0)\n",
            "Requirement already satisfied: pyparsing in /usr/local/lib/python3.7/dist-packages (from rdflib) (3.0.9)\n",
            "Collecting isodate\n",
            "  Downloading isodate-0.6.1-py2.py3-none-any.whl (41 kB)\n",
            "\u001b[K     |████████████████████████████████| 41 kB 456 kB/s \n",
            "\u001b[?25hRequirement already satisfied: importlib-metadata in /usr/local/lib/python3.7/dist-packages (from rdflib) (4.13.0)\n",
            "Requirement already satisfied: zipp>=0.5 in /usr/local/lib/python3.7/dist-packages (from importlib-metadata->rdflib) (3.10.0)\n",
            "Requirement already satisfied: typing-extensions>=3.6.4 in /usr/local/lib/python3.7/dist-packages (from importlib-metadata->rdflib) (4.1.1)\n",
            "Requirement already satisfied: six in /usr/local/lib/python3.7/dist-packages (from isodate->rdflib) (1.15.0)\n",
            "Installing collected packages: isodate, rdflib\n",
            "Successfully installed isodate-0.6.1 rdflib-6.2.0\n"
          ]
        }
      ]
    },
    {
      "cell_type": "code",
      "source": [
        "triples = [\n",
        "    ('s1', 'r1', 'o1'), ('s2', 'r2', 'o2'), ('s3', 'r3', 'o3'), ('s4', 'r4', 'o4'), ('s5', 'r5', 'o5')\n",
        "]"
      ],
      "metadata": {
        "id": "KWly5GhiTI5J"
      },
      "execution_count": null,
      "outputs": []
    },
    {
      "cell_type": "code",
      "source": [
        "from rdflib import Graph, Literal, RDF, URIRef\n",
        "from rdflib.namespace import FOAF , XSD\n",
        "\n",
        "g = Graph()\n",
        "for triple in triples:\n",
        "  g.add((Literal(triple[0], datatype=XSD.string), Literal(triple[1], datatype=XSD.string), Literal(triple[2], datatype=XSD.string)))"
      ],
      "metadata": {
        "id": "EsfEP5wRSgpp"
      },
      "execution_count": null,
      "outputs": []
    },
    {
      "cell_type": "code",
      "source": [
        "for s, p, o in g:\n",
        "    print((s, p, o))"
      ],
      "metadata": {
        "colab": {
          "base_uri": "https://localhost:8080/"
        },
        "id": "JZ5r1pVYTFlM",
        "outputId": "1dc92996-8c2b-437d-d5fd-9e041ce70f14"
      },
      "execution_count": null,
      "outputs": [
        {
          "output_type": "stream",
          "name": "stdout",
          "text": [
            "(rdflib.term.Literal('s2', datatype=rdflib.term.URIRef('http://www.w3.org/2001/XMLSchema#string')), rdflib.term.Literal('r2', datatype=rdflib.term.URIRef('http://www.w3.org/2001/XMLSchema#string')), rdflib.term.Literal('o2', datatype=rdflib.term.URIRef('http://www.w3.org/2001/XMLSchema#string')))\n",
            "(rdflib.term.Literal('s1', datatype=rdflib.term.URIRef('http://www.w3.org/2001/XMLSchema#string')), rdflib.term.Literal('r1', datatype=rdflib.term.URIRef('http://www.w3.org/2001/XMLSchema#string')), rdflib.term.Literal('o1', datatype=rdflib.term.URIRef('http://www.w3.org/2001/XMLSchema#string')))\n",
            "(rdflib.term.Literal('s5', datatype=rdflib.term.URIRef('http://www.w3.org/2001/XMLSchema#string')), rdflib.term.Literal('r5', datatype=rdflib.term.URIRef('http://www.w3.org/2001/XMLSchema#string')), rdflib.term.Literal('o5', datatype=rdflib.term.URIRef('http://www.w3.org/2001/XMLSchema#string')))\n",
            "(rdflib.term.Literal('s4', datatype=rdflib.term.URIRef('http://www.w3.org/2001/XMLSchema#string')), rdflib.term.Literal('r4', datatype=rdflib.term.URIRef('http://www.w3.org/2001/XMLSchema#string')), rdflib.term.Literal('o4', datatype=rdflib.term.URIRef('http://www.w3.org/2001/XMLSchema#string')))\n",
            "(rdflib.term.Literal('s3', datatype=rdflib.term.URIRef('http://www.w3.org/2001/XMLSchema#string')), rdflib.term.Literal('r3', datatype=rdflib.term.URIRef('http://www.w3.org/2001/XMLSchema#string')), rdflib.term.Literal('o3', datatype=rdflib.term.URIRef('http://www.w3.org/2001/XMLSchema#string')))\n"
          ]
        }
      ]
    },
    {
      "cell_type": "code",
      "source": [
        "res = g.serialize(format='n3')"
      ],
      "metadata": {
        "id": "nRZFHOYdVFep"
      },
      "execution_count": null,
      "outputs": []
    },
    {
      "cell_type": "code",
      "source": [
        "print(res)"
      ],
      "metadata": {
        "colab": {
          "base_uri": "https://localhost:8080/"
        },
        "id": "5s_4blloUwf6",
        "outputId": "7d43b5bc-dbe1-4b95-a41f-61951123721a"
      },
      "execution_count": null,
      "outputs": [
        {
          "output_type": "stream",
          "name": "stdout",
          "text": [
            "@prefix xsd: <http://www.w3.org/2001/XMLSchema#> .\n",
            "\n",
            "\"s1\"^^xsd:string \"r1\"^^xsd:string \"o1\"^^xsd:string .\n",
            "\n",
            "\"s2\"^^xsd:string \"r2\"^^xsd:string \"o2\"^^xsd:string .\n",
            "\n",
            "\"s3\"^^xsd:string \"r3\"^^xsd:string \"o3\"^^xsd:string .\n",
            "\n",
            "\"s4\"^^xsd:string \"r4\"^^xsd:string \"o4\"^^xsd:string .\n",
            "\n",
            "\"s5\"^^xsd:string \"r5\"^^xsd:string \"o5\"^^xsd:string .\n",
            "\n",
            "\n"
          ]
        }
      ]
    },
    {
      "cell_type": "code",
      "source": [
        "with open('test.n3', mode = 'w') as f:\n",
        "  f.write(res)"
      ],
      "metadata": {
        "id": "JzUkYj0yU-Pl"
      },
      "execution_count": null,
      "outputs": []
    },
    {
      "cell_type": "code",
      "source": [
        "gg = Graph()\n",
        "gg.parse(\"test.n3\")"
      ],
      "metadata": {
        "colab": {
          "base_uri": "https://localhost:8080/"
        },
        "id": "yOSTbnAxXIxn",
        "outputId": "40ce3249-5802-4a0f-a2fd-a7ad97aa56b0"
      },
      "execution_count": null,
      "outputs": [
        {
          "output_type": "execute_result",
          "data": {
            "text/plain": [
              "<Graph identifier=N374f13f42b5042c39967b1f04f59bd4b (<class 'rdflib.graph.Graph'>)>"
            ]
          },
          "metadata": {},
          "execution_count": 14
        }
      ]
    },
    {
      "cell_type": "code",
      "source": [
        "print(g.serialize(format='n3'))"
      ],
      "metadata": {
        "id": "opt06n3nXVxx",
        "colab": {
          "base_uri": "https://localhost:8080/"
        },
        "outputId": "1cde91df-1d9d-4aac-9890-cf3793051489"
      },
      "execution_count": null,
      "outputs": [
        {
          "output_type": "stream",
          "name": "stdout",
          "text": [
            "@prefix xsd: <http://www.w3.org/2001/XMLSchema#> .\n",
            "\n",
            "\"s1\"^^xsd:string \"r1\"^^xsd:string \"o1\"^^xsd:string .\n",
            "\n",
            "\"s2\"^^xsd:string \"r2\"^^xsd:string \"o2\"^^xsd:string .\n",
            "\n",
            "\"s3\"^^xsd:string \"r3\"^^xsd:string \"o3\"^^xsd:string .\n",
            "\n",
            "\"s4\"^^xsd:string \"r4\"^^xsd:string \"o4\"^^xsd:string .\n",
            "\n",
            "\"s5\"^^xsd:string \"r5\"^^xsd:string \"o5\"^^xsd:string .\n",
            "\n",
            "\n"
          ]
        }
      ]
    },
    {
      "cell_type": "markdown",
      "source": [
        "## Another Example"
      ],
      "metadata": {
        "id": "aP_nMEmCZ4yY"
      }
    },
    {
      "cell_type": "code",
      "source": [
        "from rdflib import Graph, URIRef, Literal, BNode\n",
        "from rdflib.namespace import FOAF, RDF, Namespace\n",
        "\n",
        "g = Graph()\n",
        "g.bind(\"foaf\", FOAF)\n",
        "\n",
        "bob = URIRef(\"http://example.org/people/Bob\")\n",
        "linda = BNode()  # a GUID is generated\n",
        "\n",
        "name = Literal(\"Bob\")\n",
        "age = Literal(24)\n",
        "\n",
        "g.add((bob, RDF.type, FOAF.Person))\n",
        "g.add((bob, FOAF.name, name))\n",
        "g.add((bob, FOAF.age, age))\n",
        "g.add((bob, FOAF.knows, linda))\n",
        "g.add((linda, RDF.type, FOAF.Person))\n",
        "g.add((linda, FOAF.name, Literal(\"Linda\")))\n",
        "\n",
        "print(g.serialize())"
      ],
      "metadata": {
        "colab": {
          "base_uri": "https://localhost:8080/"
        },
        "id": "zvsXQiZ9XtqJ",
        "outputId": "52532017-1bbe-4649-ffb3-896f58feeb5d"
      },
      "execution_count": null,
      "outputs": [
        {
          "output_type": "stream",
          "name": "stdout",
          "text": [
            "@prefix foaf: <http://xmlns.com/foaf/0.1/> .\n",
            "@prefix xsd: <http://www.w3.org/2001/XMLSchema#> .\n",
            "\n",
            "<http://example.org/people/Bob> a foaf:Person ;\n",
            "    foaf:age 24 ;\n",
            "    foaf:knows [ a foaf:Person ;\n",
            "            foaf:name \"Linda\" ] ;\n",
            "    foaf:name \"Bob\" .\n",
            "\n",
            "\n"
          ]
        }
      ]
    },
    {
      "cell_type": "markdown",
      "source": [
        "## Another Example 2"
      ],
      "metadata": {
        "id": "9a-mAJPQpkJW"
      }
    },
    {
      "cell_type": "code",
      "source": [
        "## https://derwen.ai/docs/kgl/ex1_0/"
      ],
      "metadata": {
        "id": "fZWdoiXlq60O"
      },
      "execution_count": null,
      "outputs": []
    },
    {
      "cell_type": "code",
      "source": [
        "g = Graph()\n",
        "\n",
        "uri = \"https://example.com/KnowledgeGraph\"\n",
        "s = URIRef(uri)\n",
        "s"
      ],
      "metadata": {
        "colab": {
          "base_uri": "https://localhost:8080/",
          "height": 34
        },
        "id": "-2p4grjTphOQ",
        "outputId": "4bbbf5d4-f283-4d7a-a161-28cad84b6809"
      },
      "execution_count": null,
      "outputs": [
        {
          "output_type": "execute_result",
          "data": {
            "text/plain": [
              "rdflib.term.URIRef('https://example.com/KnowledgeGraph')"
            ],
            "application/vnd.google.colaboratory.intrinsic+json": {
              "type": "string"
            }
          },
          "metadata": {},
          "execution_count": 270
        }
      ]
    },
    {
      "cell_type": "code",
      "source": [
        "p = RDF.type\n",
        "p"
      ],
      "metadata": {
        "colab": {
          "base_uri": "https://localhost:8080/",
          "height": 34
        },
        "id": "NddtX0D4qEvN",
        "outputId": "cfce406a-66b7-49f1-d851-74d6c91af6ef"
      },
      "execution_count": null,
      "outputs": [
        {
          "output_type": "execute_result",
          "data": {
            "text/plain": [
              "rdflib.term.URIRef('http://www.w3.org/1999/02/22-rdf-syntax-ns#type')"
            ],
            "application/vnd.google.colaboratory.intrinsic+json": {
              "type": "string"
            }
          },
          "metadata": {},
          "execution_count": 271
        }
      ]
    },
    {
      "cell_type": "code",
      "source": [
        "nm = g.namespace_manager"
      ],
      "metadata": {
        "id": "NfcIxBJkqL1e"
      },
      "execution_count": null,
      "outputs": []
    },
    {
      "cell_type": "code",
      "source": [
        "uri = \"http://example.org/project/\"\n",
        "ns_wtm = Namespace(uri)\n",
        "\n",
        "prefix = \"wtm\"\n",
        "nm.bind(prefix, ns_wtm)"
      ],
      "metadata": {
        "id": "Km5S_tbkqTMm"
      },
      "execution_count": null,
      "outputs": []
    },
    {
      "cell_type": "code",
      "source": [
        "o = ns_wtm.CapstoneProject\n",
        "o"
      ],
      "metadata": {
        "colab": {
          "base_uri": "https://localhost:8080/",
          "height": 34
        },
        "id": "1y4BpVY8qbgm",
        "outputId": "5fa587ba-8688-4dfb-8a2c-5f3799a5908d"
      },
      "execution_count": null,
      "outputs": [
        {
          "output_type": "execute_result",
          "data": {
            "text/plain": [
              "rdflib.term.URIRef('http://example.org/project/CapstoneProject')"
            ],
            "application/vnd.google.colaboratory.intrinsic+json": {
              "type": "string"
            }
          },
          "metadata": {},
          "execution_count": 274
        }
      ]
    },
    {
      "cell_type": "code",
      "source": [
        "g.add((s, p, o,))\n",
        "g"
      ],
      "metadata": {
        "colab": {
          "base_uri": "https://localhost:8080/"
        },
        "id": "qTa4FJMvqgLY",
        "outputId": "3b9e90f4-0109-41e8-8c1c-9f83dab4b626"
      },
      "execution_count": null,
      "outputs": [
        {
          "output_type": "execute_result",
          "data": {
            "text/plain": [
              "<Graph identifier=N4929e608e9cb423b9506d936cd9f2722 (<class 'rdflib.graph.Graph'>)>"
            ]
          },
          "metadata": {},
          "execution_count": 275
        }
      ]
    },
    {
      "cell_type": "code",
      "source": [
        "p = ns_wtm.hasCompletionTime\n",
        "p\n"
      ],
      "metadata": {
        "colab": {
          "base_uri": "https://localhost:8080/",
          "height": 34
        },
        "id": "QBcKTv5dqkEW",
        "outputId": "5c322531-6621-4570-f527-cfdd33badcdf"
      },
      "execution_count": null,
      "outputs": [
        {
          "output_type": "execute_result",
          "data": {
            "text/plain": [
              "rdflib.term.URIRef('http://example.org/project/hasCompletionTime')"
            ],
            "application/vnd.google.colaboratory.intrinsic+json": {
              "type": "string"
            }
          },
          "metadata": {},
          "execution_count": 276
        }
      ]
    },
    {
      "cell_type": "code",
      "source": [
        "from rdflib.namespace import XSD\n",
        "\n",
        "o = Literal(\"4 months\")\n",
        "o\n"
      ],
      "metadata": {
        "colab": {
          "base_uri": "https://localhost:8080/",
          "height": 34
        },
        "id": "px1mFhq6qm5G",
        "outputId": "874d8b86-4a2e-45a2-f5ef-2e06585c8984"
      },
      "execution_count": null,
      "outputs": [
        {
          "output_type": "execute_result",
          "data": {
            "text/plain": [
              "rdflib.term.Literal('4 months')"
            ],
            "application/vnd.google.colaboratory.intrinsic+json": {
              "type": "string"
            }
          },
          "metadata": {},
          "execution_count": 277
        }
      ]
    },
    {
      "cell_type": "code",
      "source": [
        "g.add((s, p, o,))"
      ],
      "metadata": {
        "colab": {
          "base_uri": "https://localhost:8080/"
        },
        "id": "ScdNrzr7qqcF",
        "outputId": "3348eccc-0806-41c8-c9a5-3a1c5611d19e"
      },
      "execution_count": null,
      "outputs": [
        {
          "output_type": "execute_result",
          "data": {
            "text/plain": [
              "<Graph identifier=N4929e608e9cb423b9506d936cd9f2722 (<class 'rdflib.graph.Graph'>)>"
            ]
          },
          "metadata": {},
          "execution_count": 278
        }
      ]
    },
    {
      "cell_type": "code",
      "source": [
        "print(g.serialize())"
      ],
      "metadata": {
        "colab": {
          "base_uri": "https://localhost:8080/"
        },
        "id": "RYf_q-gOs0re",
        "outputId": "65153e7f-0f89-46a7-c77c-0c63b80e182b"
      },
      "execution_count": null,
      "outputs": [
        {
          "output_type": "stream",
          "name": "stdout",
          "text": [
            "@prefix wtm: <http://example.org/project/> .\n",
            "\n",
            "<https://example.com/KnowledgeGraph> a wtm:CapstoneProject ;\n",
            "    wtm:hasCompletionTime \"4 months\" .\n",
            "\n",
            "\n"
          ]
        }
      ]
    },
    {
      "cell_type": "code",
      "source": [
        "p = ns_wtm.hasTeamMembers\n",
        "p\n"
      ],
      "metadata": {
        "colab": {
          "base_uri": "https://localhost:8080/",
          "height": 34
        },
        "id": "jiB4Ni7Iq3Ru",
        "outputId": "3efd0f85-31a0-46c0-a771-c00133f161ba"
      },
      "execution_count": null,
      "outputs": [
        {
          "output_type": "execute_result",
          "data": {
            "text/plain": [
              "rdflib.term.URIRef('http://example.org/project/hasTeamMembers')"
            ],
            "application/vnd.google.colaboratory.intrinsic+json": {
              "type": "string"
            }
          },
          "metadata": {},
          "execution_count": 280
        }
      ]
    },
    {
      "cell_type": "code",
      "source": [
        "uri = \"http://example.org/team/\"\n",
        "ns_ind = Namespace(uri)\n",
        "\n",
        "prefix = \"team_members\"\n",
        "nm.bind(prefix, ns_ind)\n"
      ],
      "metadata": {
        "id": "H7PDyCQ-q4f9"
      },
      "execution_count": null,
      "outputs": []
    },
    {
      "cell_type": "code",
      "source": [
        "o = ns_ind.Shashwat\n",
        "o\n"
      ],
      "metadata": {
        "colab": {
          "base_uri": "https://localhost:8080/",
          "height": 34
        },
        "id": "1jOwGv0mtGU2",
        "outputId": "218eee55-46ad-4967-9bc8-813f0af92274"
      },
      "execution_count": null,
      "outputs": [
        {
          "output_type": "execute_result",
          "data": {
            "text/plain": [
              "rdflib.term.URIRef('http://example.org/team/Shashwat')"
            ],
            "application/vnd.google.colaboratory.intrinsic+json": {
              "type": "string"
            }
          },
          "metadata": {},
          "execution_count": 282
        }
      ]
    },
    {
      "cell_type": "code",
      "source": [
        "g.add((s, p, o,))\n"
      ],
      "metadata": {
        "colab": {
          "base_uri": "https://localhost:8080/"
        },
        "id": "0rdlde7ytIBX",
        "outputId": "aadc82cd-ab72-4bd1-c8e8-5f24284d22da"
      },
      "execution_count": null,
      "outputs": [
        {
          "output_type": "execute_result",
          "data": {
            "text/plain": [
              "<Graph identifier=N4929e608e9cb423b9506d936cd9f2722 (<class 'rdflib.graph.Graph'>)>"
            ]
          },
          "metadata": {},
          "execution_count": 283
        }
      ]
    },
    {
      "cell_type": "code",
      "source": [
        "print(g.serialize())"
      ],
      "metadata": {
        "colab": {
          "base_uri": "https://localhost:8080/"
        },
        "id": "IIfdMW66tLn7",
        "outputId": "0ec43da8-ee21-49c4-b895-a7cfa9e0b70f"
      },
      "execution_count": null,
      "outputs": [
        {
          "output_type": "stream",
          "name": "stdout",
          "text": [
            "@prefix team_members: <http://example.org/team/> .\n",
            "@prefix wtm: <http://example.org/project/> .\n",
            "\n",
            "<https://example.com/KnowledgeGraph> a wtm:CapstoneProject ;\n",
            "    wtm:hasCompletionTime \"4 months\" ;\n",
            "    wtm:hasTeamMembers team_members:Shashwat .\n",
            "\n",
            "\n"
          ]
        }
      ]
    },
    {
      "cell_type": "code",
      "source": [
        "g.add((s, p, ns_ind.Alex,))\n",
        "g.add((s, p, ns_ind.Arnav,))\n",
        "g.add((s, p, ns_ind.Elin,))\n",
        "g.add((s, p, ns_ind.Ridwan,))"
      ],
      "metadata": {
        "colab": {
          "base_uri": "https://localhost:8080/"
        },
        "id": "LV4c7WnVtNCO",
        "outputId": "14a0c393-abeb-495b-d9ae-397b81be52ed"
      },
      "execution_count": null,
      "outputs": [
        {
          "output_type": "execute_result",
          "data": {
            "text/plain": [
              "<Graph identifier=N4929e608e9cb423b9506d936cd9f2722 (<class 'rdflib.graph.Graph'>)>"
            ]
          },
          "metadata": {},
          "execution_count": 285
        }
      ]
    },
    {
      "cell_type": "code",
      "source": [
        "print(g.serialize())"
      ],
      "metadata": {
        "colab": {
          "base_uri": "https://localhost:8080/"
        },
        "id": "HYMqB1BxtTXt",
        "outputId": "90fb14f9-62f8-48da-bd7e-f24c9af238b1"
      },
      "execution_count": null,
      "outputs": [
        {
          "output_type": "stream",
          "name": "stdout",
          "text": [
            "@prefix team_members: <http://example.org/team/> .\n",
            "@prefix wtm: <http://example.org/project/> .\n",
            "\n",
            "<https://example.com/KnowledgeGraph> a wtm:CapstoneProject ;\n",
            "    wtm:hasCompletionTime \"4 months\" ;\n",
            "    wtm:hasTeamMembers team_members:Alex,\n",
            "        team_members:Arnav,\n",
            "        team_members:Elin,\n",
            "        team_members:Ridwan,\n",
            "        team_members:Shashwat .\n",
            "\n",
            "\n"
          ]
        }
      ]
    },
    {
      "cell_type": "markdown",
      "source": [
        "### Assumed Triplets\n",
        "\n",
        "1. (Knowledge Graph, type of, Capstone Project)\n",
        "2. (Knowledge Graph, completion time, 4 months)\n",
        "3. (Knowledge Graph, team members, Shashwat)\n",
        "4. (Knowledge Graph, team members, Alex)\n",
        "5. (Knowledge Graph, team members, Arnav)\n",
        "6. (Knowledge Graph, team members, Elin)\n",
        "7. (Knowledge Graph, team members, Ridwan)"
      ],
      "metadata": {
        "id": "5kj00FM_LtPP"
      }
    },
    {
      "cell_type": "code",
      "source": [
        "for s, p, o in g:\n",
        "    print(s, p, o)"
      ],
      "metadata": {
        "colab": {
          "base_uri": "https://localhost:8080/"
        },
        "id": "LNkQxkQdtUe2",
        "outputId": "cf8b078c-b8b5-447e-ba77-29e324889cc5"
      },
      "execution_count": null,
      "outputs": [
        {
          "output_type": "stream",
          "name": "stdout",
          "text": [
            "https://example.com/KnowledgeGraph http://example.org/project/hasTeamMembers http://example.org/team/Shashwat\n",
            "https://example.com/KnowledgeGraph http://example.org/project/hasTeamMembers http://example.org/team/Elin\n",
            "https://example.com/KnowledgeGraph http://example.org/project/hasTeamMembers http://example.org/team/Arnav\n",
            "https://example.com/KnowledgeGraph http://example.org/project/hasCompletionTime 4 months\n",
            "https://example.com/KnowledgeGraph http://example.org/project/hasTeamMembers http://example.org/team/Ridwan\n",
            "https://example.com/KnowledgeGraph http://www.w3.org/1999/02/22-rdf-syntax-ns#type http://example.org/project/CapstoneProject\n",
            "https://example.com/KnowledgeGraph http://example.org/project/hasTeamMembers http://example.org/team/Alex\n"
          ]
        }
      ]
    },
    {
      "cell_type": "code",
      "source": [
        "knows_query = \"\"\"\n",
        "SELECT DISTINCT ?a ?b\n",
        "WHERE {\n",
        "    ?a wtm:hasTeamMembers ?b .\n",
        "}\"\"\"\n",
        "\n",
        "qres = g.query(knows_query)\n",
        "for row in qres:\n",
        "    print(f\"{row.a} has team member {row.b}\")"
      ],
      "metadata": {
        "id": "bMvgzKR2tXH6",
        "colab": {
          "base_uri": "https://localhost:8080/"
        },
        "outputId": "cd6be789-4bb0-468b-ab2f-589c4d2146d7"
      },
      "execution_count": null,
      "outputs": [
        {
          "output_type": "stream",
          "name": "stdout",
          "text": [
            "https://example.com/KnowledgeGraph has team member http://example.org/team/Shashwat\n",
            "https://example.com/KnowledgeGraph has team member http://example.org/team/Alex\n",
            "https://example.com/KnowledgeGraph has team member http://example.org/team/Arnav\n",
            "https://example.com/KnowledgeGraph has team member http://example.org/team/Elin\n",
            "https://example.com/KnowledgeGraph has team member http://example.org/team/Ridwan\n"
          ]
        }
      ]
    },
    {
      "cell_type": "code",
      "source": [
        "knows_query = \"\"\"\n",
        "SELECT DISTINCT ?a ?b\n",
        "WHERE {\n",
        "    ?a wtm:hasCompletionTime ?b .\n",
        "}\"\"\"\n",
        "\n",
        "qres = g.query(knows_query)\n",
        "for row in qres:\n",
        "    print(f\"{row.a} has completion time of {row.b}\")"
      ],
      "metadata": {
        "colab": {
          "base_uri": "https://localhost:8080/"
        },
        "id": "pyktMyAv6Q5R",
        "outputId": "82bafa36-11f1-46b2-8e06-d40bd0bbd6a4"
      },
      "execution_count": null,
      "outputs": [
        {
          "output_type": "stream",
          "name": "stdout",
          "text": [
            "https://example.com/KnowledgeGraph has completion time of 4 months\n"
          ]
        }
      ]
    },
    {
      "cell_type": "code",
      "source": [
        "res = g.serialize(format='n3')"
      ],
      "metadata": {
        "id": "zScvjHoNNvmX"
      },
      "execution_count": null,
      "outputs": []
    },
    {
      "cell_type": "code",
      "source": [
        "with open('test.n3', mode = 'w') as f:\n",
        "  f.write(res)"
      ],
      "metadata": {
        "id": "hQ-CiYXdNuYt"
      },
      "execution_count": null,
      "outputs": []
    },
    {
      "cell_type": "code",
      "source": [
        "gg = Graph()\n",
        "gg.parse(\"test.n3\")"
      ],
      "metadata": {
        "colab": {
          "base_uri": "https://localhost:8080/"
        },
        "id": "CD-u0NGpN55l",
        "outputId": "c19f2181-bdbf-47c0-fcef-3f970510df8e"
      },
      "execution_count": null,
      "outputs": [
        {
          "output_type": "execute_result",
          "data": {
            "text/plain": [
              "<Graph identifier=Nc5e1c8730d424890bea7ce344059dea2 (<class 'rdflib.graph.Graph'>)>"
            ]
          },
          "metadata": {},
          "execution_count": 296
        }
      ]
    },
    {
      "cell_type": "code",
      "source": [
        "print(gg.serialize(format='n3'))"
      ],
      "metadata": {
        "colab": {
          "base_uri": "https://localhost:8080/"
        },
        "id": "AmaEk9cvN6UA",
        "outputId": "67124e48-e844-43ee-920a-9355b6724f63"
      },
      "execution_count": null,
      "outputs": [
        {
          "output_type": "stream",
          "name": "stdout",
          "text": [
            "@prefix team_members: <http://example.org/team/> .\n",
            "@prefix wtm: <http://example.org/project/> .\n",
            "\n",
            "<https://example.com/KnowledgeGraph> a wtm:CapstoneProject ;\n",
            "    wtm:hasCompletionTime \"4 months\" ;\n",
            "    wtm:hasTeamMembers team_members:Alex,\n",
            "        team_members:Arnav,\n",
            "        team_members:Elin,\n",
            "        team_members:Ridwan,\n",
            "        team_members:Shashwat .\n",
            "\n",
            "\n"
          ]
        }
      ]
    },
    {
      "cell_type": "code",
      "source": [],
      "metadata": {
        "id": "3_fegzcnN9zp"
      },
      "execution_count": null,
      "outputs": []
    }
  ]
}