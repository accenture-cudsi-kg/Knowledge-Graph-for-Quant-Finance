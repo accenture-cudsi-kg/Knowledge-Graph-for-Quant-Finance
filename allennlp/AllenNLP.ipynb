{
  "nbformat": 4,
  "nbformat_minor": 0,
  "metadata": {
    "colab": {
      "provenance": [],
      "collapsed_sections": []
    },
    "kernelspec": {
      "name": "python3",
      "display_name": "Python 3"
    },
    "language_info": {
      "name": "python"
    }
  },
  "cells": [
    {
      "cell_type": "code",
      "execution_count": null,
      "metadata": {
        "colab": {
          "base_uri": "https://localhost:8080/"
        },
        "id": "WCmgL27kTmW4",
        "outputId": "3689c899-6c8d-4b5d-c3ab-0885ed83401b"
      },
      "outputs": [
        {
          "output_type": "stream",
          "name": "stdout",
          "text": [
            "Looking in indexes: https://pypi.org/simple, https://us-python.pkg.dev/colab-wheels/public/simple/\n",
            "Requirement already satisfied: allennlp==2.1.0 in /usr/local/lib/python3.7/dist-packages (2.1.0)\n",
            "Requirement already satisfied: allennlp-models==2.1.0 in /usr/local/lib/python3.7/dist-packages (2.1.0)\n",
            "Requirement already satisfied: numpy in /usr/local/lib/python3.7/dist-packages (from allennlp==2.1.0) (1.21.6)\n",
            "Requirement already satisfied: more-itertools in /usr/local/lib/python3.7/dist-packages (from allennlp==2.1.0) (8.14.0)\n",
            "Requirement already satisfied: tensorboardX>=1.2 in /usr/local/lib/python3.7/dist-packages (from allennlp==2.1.0) (2.5.1)\n",
            "Requirement already satisfied: tqdm>=4.19 in /usr/local/lib/python3.7/dist-packages (from allennlp==2.1.0) (4.64.1)\n",
            "Requirement already satisfied: h5py in /usr/local/lib/python3.7/dist-packages (from allennlp==2.1.0) (3.1.0)\n",
            "Requirement already satisfied: jsonpickle in /usr/local/lib/python3.7/dist-packages (from allennlp==2.1.0) (2.2.0)\n",
            "Requirement already satisfied: torchvision<0.9.0,>=0.8.1 in /usr/local/lib/python3.7/dist-packages (from allennlp==2.1.0) (0.8.2)\n",
            "Requirement already satisfied: lmdb in /usr/local/lib/python3.7/dist-packages (from allennlp==2.1.0) (0.99)\n",
            "Requirement already satisfied: transformers<4.4,>=4.1 in /usr/local/lib/python3.7/dist-packages (from allennlp==2.1.0) (4.3.3)\n",
            "Requirement already satisfied: torch<1.8.0,>=1.6.0 in /usr/local/lib/python3.7/dist-packages (from allennlp==2.1.0) (1.7.1)\n",
            "Requirement already satisfied: boto3<2.0,>=1.14 in /usr/local/lib/python3.7/dist-packages (from allennlp==2.1.0) (1.24.92)\n",
            "Requirement already satisfied: nltk in /usr/local/lib/python3.7/dist-packages (from allennlp==2.1.0) (3.7)\n",
            "Requirement already satisfied: jsonnet>=0.10.0 in /usr/local/lib/python3.7/dist-packages (from allennlp==2.1.0) (0.18.0)\n",
            "Requirement already satisfied: overrides==3.1.0 in /usr/local/lib/python3.7/dist-packages (from allennlp==2.1.0) (3.1.0)\n",
            "Requirement already satisfied: sentencepiece in /usr/local/lib/python3.7/dist-packages (from allennlp==2.1.0) (0.1.97)\n",
            "Requirement already satisfied: filelock<3.1,>=3.0 in /usr/local/lib/python3.7/dist-packages (from allennlp==2.1.0) (3.0.12)\n",
            "Requirement already satisfied: scipy in /usr/local/lib/python3.7/dist-packages (from allennlp==2.1.0) (1.7.3)\n",
            "Requirement already satisfied: pytest in /usr/local/lib/python3.7/dist-packages (from allennlp==2.1.0) (3.6.4)\n",
            "Requirement already satisfied: spacy<3.1,>=2.1.0 in /usr/local/lib/python3.7/dist-packages (from allennlp==2.1.0) (3.0.8)\n",
            "Requirement already satisfied: scikit-learn in /usr/local/lib/python3.7/dist-packages (from allennlp==2.1.0) (1.0.2)\n",
            "Requirement already satisfied: requests>=2.18 in /usr/local/lib/python3.7/dist-packages (from allennlp==2.1.0) (2.23.0)\n",
            "Requirement already satisfied: conllu==4.4 in /usr/local/lib/python3.7/dist-packages (from allennlp-models==2.1.0) (4.4)\n",
            "Requirement already satisfied: word2number>=1.1 in /usr/local/lib/python3.7/dist-packages (from allennlp-models==2.1.0) (1.1)\n",
            "Requirement already satisfied: py-rouge==1.1 in /usr/local/lib/python3.7/dist-packages (from allennlp-models==2.1.0) (1.1)\n",
            "Requirement already satisfied: ftfy in /usr/local/lib/python3.7/dist-packages (from allennlp-models==2.1.0) (6.1.1)\n",
            "Requirement already satisfied: jmespath<2.0.0,>=0.7.1 in /usr/local/lib/python3.7/dist-packages (from boto3<2.0,>=1.14->allennlp==2.1.0) (1.0.1)\n",
            "Requirement already satisfied: s3transfer<0.7.0,>=0.6.0 in /usr/local/lib/python3.7/dist-packages (from boto3<2.0,>=1.14->allennlp==2.1.0) (0.6.0)\n",
            "Requirement already satisfied: botocore<1.28.0,>=1.27.92 in /usr/local/lib/python3.7/dist-packages (from boto3<2.0,>=1.14->allennlp==2.1.0) (1.27.92)\n",
            "Requirement already satisfied: urllib3<1.27,>=1.25.4 in /usr/local/lib/python3.7/dist-packages (from botocore<1.28.0,>=1.27.92->boto3<2.0,>=1.14->allennlp==2.1.0) (1.25.11)\n",
            "Requirement already satisfied: python-dateutil<3.0.0,>=2.1 in /usr/local/lib/python3.7/dist-packages (from botocore<1.28.0,>=1.27.92->boto3<2.0,>=1.14->allennlp==2.1.0) (2.8.2)\n",
            "Requirement already satisfied: six>=1.5 in /usr/local/lib/python3.7/dist-packages (from python-dateutil<3.0.0,>=2.1->botocore<1.28.0,>=1.27.92->boto3<2.0,>=1.14->allennlp==2.1.0) (1.15.0)\n",
            "Requirement already satisfied: chardet<4,>=3.0.2 in /usr/local/lib/python3.7/dist-packages (from requests>=2.18->allennlp==2.1.0) (3.0.4)\n",
            "Requirement already satisfied: idna<3,>=2.5 in /usr/local/lib/python3.7/dist-packages (from requests>=2.18->allennlp==2.1.0) (2.10)\n",
            "Requirement already satisfied: certifi>=2017.4.17 in /usr/local/lib/python3.7/dist-packages (from requests>=2.18->allennlp==2.1.0) (2022.9.24)\n",
            "Requirement already satisfied: wasabi<1.1.0,>=0.8.1 in /usr/local/lib/python3.7/dist-packages (from spacy<3.1,>=2.1.0->allennlp==2.1.0) (0.10.1)\n",
            "Requirement already satisfied: preshed<3.1.0,>=3.0.2 in /usr/local/lib/python3.7/dist-packages (from spacy<3.1,>=2.1.0->allennlp==2.1.0) (3.0.7)\n",
            "Requirement already satisfied: murmurhash<1.1.0,>=0.28.0 in /usr/local/lib/python3.7/dist-packages (from spacy<3.1,>=2.1.0->allennlp==2.1.0) (1.0.8)\n",
            "Requirement already satisfied: typer<0.4.0,>=0.3.0 in /usr/local/lib/python3.7/dist-packages (from spacy<3.1,>=2.1.0->allennlp==2.1.0) (0.3.2)\n",
            "Requirement already satisfied: spacy-legacy<3.1.0,>=3.0.5 in /usr/local/lib/python3.7/dist-packages (from spacy<3.1,>=2.1.0->allennlp==2.1.0) (3.0.10)\n",
            "Requirement already satisfied: blis<0.8.0,>=0.4.0 in /usr/local/lib/python3.7/dist-packages (from spacy<3.1,>=2.1.0->allennlp==2.1.0) (0.7.8)\n",
            "Requirement already satisfied: jinja2 in /usr/local/lib/python3.7/dist-packages (from spacy<3.1,>=2.1.0->allennlp==2.1.0) (2.11.3)\n",
            "Requirement already satisfied: packaging>=20.0 in /usr/local/lib/python3.7/dist-packages (from spacy<3.1,>=2.1.0->allennlp==2.1.0) (21.3)\n",
            "Requirement already satisfied: pathy>=0.3.5 in /usr/local/lib/python3.7/dist-packages (from spacy<3.1,>=2.1.0->allennlp==2.1.0) (0.6.2)\n",
            "Requirement already satisfied: cymem<2.1.0,>=2.0.2 in /usr/local/lib/python3.7/dist-packages (from spacy<3.1,>=2.1.0->allennlp==2.1.0) (2.0.6)\n",
            "Requirement already satisfied: typing-extensions<4.0.0.0,>=3.7.4 in /usr/local/lib/python3.7/dist-packages (from spacy<3.1,>=2.1.0->allennlp==2.1.0) (3.10.0.2)\n",
            "Requirement already satisfied: thinc<8.1.0,>=8.0.3 in /usr/local/lib/python3.7/dist-packages (from spacy<3.1,>=2.1.0->allennlp==2.1.0) (8.0.17)\n",
            "Requirement already satisfied: catalogue<2.1.0,>=2.0.4 in /usr/local/lib/python3.7/dist-packages (from spacy<3.1,>=2.1.0->allennlp==2.1.0) (2.0.8)\n",
            "Requirement already satisfied: srsly<3.0.0,>=2.4.1 in /usr/local/lib/python3.7/dist-packages (from spacy<3.1,>=2.1.0->allennlp==2.1.0) (2.4.4)\n",
            "Requirement already satisfied: setuptools in /usr/local/lib/python3.7/dist-packages (from spacy<3.1,>=2.1.0->allennlp==2.1.0) (57.4.0)\n",
            "Requirement already satisfied: pydantic!=1.8,!=1.8.1,<1.9.0,>=1.7.4 in /usr/local/lib/python3.7/dist-packages (from spacy<3.1,>=2.1.0->allennlp==2.1.0) (1.8.2)\n",
            "Requirement already satisfied: zipp>=0.5 in /usr/local/lib/python3.7/dist-packages (from catalogue<2.1.0,>=2.0.4->spacy<3.1,>=2.1.0->allennlp==2.1.0) (3.9.0)\n",
            "Requirement already satisfied: pyparsing!=3.0.5,>=2.0.2 in /usr/local/lib/python3.7/dist-packages (from packaging>=20.0->spacy<3.1,>=2.1.0->allennlp==2.1.0) (3.0.9)\n",
            "Requirement already satisfied: smart-open<6.0.0,>=5.2.1 in /usr/local/lib/python3.7/dist-packages (from pathy>=0.3.5->spacy<3.1,>=2.1.0->allennlp==2.1.0) (5.2.1)\n",
            "Requirement already satisfied: protobuf<=3.20.1,>=3.8.0 in /usr/local/lib/python3.7/dist-packages (from tensorboardX>=1.2->allennlp==2.1.0) (3.17.3)\n",
            "Requirement already satisfied: pillow>=4.1.1 in /usr/local/lib/python3.7/dist-packages (from torchvision<0.9.0,>=0.8.1->allennlp==2.1.0) (7.1.2)\n",
            "Requirement already satisfied: tokenizers<0.11,>=0.10.1 in /usr/local/lib/python3.7/dist-packages (from transformers<4.4,>=4.1->allennlp==2.1.0) (0.10.3)\n",
            "Requirement already satisfied: importlib-metadata in /usr/local/lib/python3.7/dist-packages (from transformers<4.4,>=4.1->allennlp==2.1.0) (5.0.0)\n",
            "Requirement already satisfied: regex!=2019.12.17 in /usr/local/lib/python3.7/dist-packages (from transformers<4.4,>=4.1->allennlp==2.1.0) (2022.6.2)\n",
            "Requirement already satisfied: sacremoses in /usr/local/lib/python3.7/dist-packages (from transformers<4.4,>=4.1->allennlp==2.1.0) (0.0.53)\n",
            "Requirement already satisfied: click<7.2.0,>=7.1.1 in /usr/local/lib/python3.7/dist-packages (from typer<0.4.0,>=0.3.0->spacy<3.1,>=2.1.0->allennlp==2.1.0) (7.1.2)\n",
            "Requirement already satisfied: wcwidth>=0.2.5 in /usr/local/lib/python3.7/dist-packages (from ftfy->allennlp-models==2.1.0) (0.2.5)\n",
            "Requirement already satisfied: cached-property in /usr/local/lib/python3.7/dist-packages (from h5py->allennlp==2.1.0) (1.5.2)\n",
            "Requirement already satisfied: MarkupSafe>=0.23 in /usr/local/lib/python3.7/dist-packages (from jinja2->spacy<3.1,>=2.1.0->allennlp==2.1.0) (2.0.1)\n",
            "Requirement already satisfied: joblib in /usr/local/lib/python3.7/dist-packages (from nltk->allennlp==2.1.0) (1.2.0)\n",
            "Requirement already satisfied: attrs>=17.4.0 in /usr/local/lib/python3.7/dist-packages (from pytest->allennlp==2.1.0) (22.1.0)\n",
            "Requirement already satisfied: atomicwrites>=1.0 in /usr/local/lib/python3.7/dist-packages (from pytest->allennlp==2.1.0) (1.4.1)\n",
            "Requirement already satisfied: pluggy<0.8,>=0.5 in /usr/local/lib/python3.7/dist-packages (from pytest->allennlp==2.1.0) (0.7.1)\n",
            "Requirement already satisfied: py>=1.5.0 in /usr/local/lib/python3.7/dist-packages (from pytest->allennlp==2.1.0) (1.11.0)\n",
            "Requirement already satisfied: threadpoolctl>=2.0.0 in /usr/local/lib/python3.7/dist-packages (from scikit-learn->allennlp==2.1.0) (3.1.0)\n"
          ]
        }
      ],
      "source": [
        "!pip install allennlp==2.1.0 allennlp-models==2.1.0 "
      ]
    },
    {
      "cell_type": "code",
      "source": [
        "!pip install spacy"
      ],
      "metadata": {
        "colab": {
          "base_uri": "https://localhost:8080/"
        },
        "id": "jNv0pP7_f2e2",
        "outputId": "712d5aaf-1282-4d78-9647-7556c0e33f58"
      },
      "execution_count": null,
      "outputs": [
        {
          "output_type": "stream",
          "name": "stdout",
          "text": [
            "Looking in indexes: https://pypi.org/simple, https://us-python.pkg.dev/colab-wheels/public/simple/\n",
            "Requirement already satisfied: spacy in /usr/local/lib/python3.7/dist-packages (3.0.8)\n",
            "Requirement already satisfied: pathy>=0.3.5 in /usr/local/lib/python3.7/dist-packages (from spacy) (0.6.2)\n",
            "Requirement already satisfied: tqdm<5.0.0,>=4.38.0 in /usr/local/lib/python3.7/dist-packages (from spacy) (4.64.1)\n",
            "Requirement already satisfied: spacy-legacy<3.1.0,>=3.0.5 in /usr/local/lib/python3.7/dist-packages (from spacy) (3.0.10)\n",
            "Requirement already satisfied: thinc<8.1.0,>=8.0.3 in /usr/local/lib/python3.7/dist-packages (from spacy) (8.0.17)\n",
            "Requirement already satisfied: catalogue<2.1.0,>=2.0.4 in /usr/local/lib/python3.7/dist-packages (from spacy) (2.0.8)\n",
            "Requirement already satisfied: blis<0.8.0,>=0.4.0 in /usr/local/lib/python3.7/dist-packages (from spacy) (0.7.8)\n",
            "Requirement already satisfied: packaging>=20.0 in /usr/local/lib/python3.7/dist-packages (from spacy) (21.3)\n",
            "Requirement already satisfied: typer<0.4.0,>=0.3.0 in /usr/local/lib/python3.7/dist-packages (from spacy) (0.3.2)\n",
            "Requirement already satisfied: pydantic!=1.8,!=1.8.1,<1.9.0,>=1.7.4 in /usr/local/lib/python3.7/dist-packages (from spacy) (1.8.2)\n",
            "Requirement already satisfied: preshed<3.1.0,>=3.0.2 in /usr/local/lib/python3.7/dist-packages (from spacy) (3.0.7)\n",
            "Requirement already satisfied: setuptools in /usr/local/lib/python3.7/dist-packages (from spacy) (57.4.0)\n",
            "Requirement already satisfied: cymem<2.1.0,>=2.0.2 in /usr/local/lib/python3.7/dist-packages (from spacy) (2.0.6)\n",
            "Requirement already satisfied: srsly<3.0.0,>=2.4.1 in /usr/local/lib/python3.7/dist-packages (from spacy) (2.4.4)\n",
            "Requirement already satisfied: numpy>=1.15.0 in /usr/local/lib/python3.7/dist-packages (from spacy) (1.21.6)\n",
            "Requirement already satisfied: wasabi<1.1.0,>=0.8.1 in /usr/local/lib/python3.7/dist-packages (from spacy) (0.10.1)\n",
            "Requirement already satisfied: murmurhash<1.1.0,>=0.28.0 in /usr/local/lib/python3.7/dist-packages (from spacy) (1.0.8)\n",
            "Requirement already satisfied: requests<3.0.0,>=2.13.0 in /usr/local/lib/python3.7/dist-packages (from spacy) (2.23.0)\n",
            "Requirement already satisfied: jinja2 in /usr/local/lib/python3.7/dist-packages (from spacy) (2.11.3)\n",
            "Requirement already satisfied: typing-extensions<4.0.0.0,>=3.7.4 in /usr/local/lib/python3.7/dist-packages (from spacy) (3.10.0.2)\n",
            "Requirement already satisfied: zipp>=0.5 in /usr/local/lib/python3.7/dist-packages (from catalogue<2.1.0,>=2.0.4->spacy) (3.9.0)\n",
            "Requirement already satisfied: pyparsing!=3.0.5,>=2.0.2 in /usr/local/lib/python3.7/dist-packages (from packaging>=20.0->spacy) (3.0.9)\n",
            "Requirement already satisfied: smart-open<6.0.0,>=5.2.1 in /usr/local/lib/python3.7/dist-packages (from pathy>=0.3.5->spacy) (5.2.1)\n",
            "Requirement already satisfied: idna<3,>=2.5 in /usr/local/lib/python3.7/dist-packages (from requests<3.0.0,>=2.13.0->spacy) (2.10)\n",
            "Requirement already satisfied: certifi>=2017.4.17 in /usr/local/lib/python3.7/dist-packages (from requests<3.0.0,>=2.13.0->spacy) (2022.9.24)\n",
            "Requirement already satisfied: urllib3!=1.25.0,!=1.25.1,<1.26,>=1.21.1 in /usr/local/lib/python3.7/dist-packages (from requests<3.0.0,>=2.13.0->spacy) (1.25.11)\n",
            "Requirement already satisfied: chardet<4,>=3.0.2 in /usr/local/lib/python3.7/dist-packages (from requests<3.0.0,>=2.13.0->spacy) (3.0.4)\n",
            "Requirement already satisfied: click<7.2.0,>=7.1.1 in /usr/local/lib/python3.7/dist-packages (from typer<0.4.0,>=0.3.0->spacy) (7.1.2)\n",
            "Requirement already satisfied: MarkupSafe>=0.23 in /usr/local/lib/python3.7/dist-packages (from jinja2->spacy) (2.0.1)\n"
          ]
        }
      ]
    },
    {
      "cell_type": "code",
      "source": [
        "!python -m spacy download en_core_web_sm"
      ],
      "metadata": {
        "colab": {
          "base_uri": "https://localhost:8080/"
        },
        "id": "6ZMVASPWf5qU",
        "outputId": "e023e96d-f84f-43f5-9a80-8f6e2b07f6b0"
      },
      "execution_count": null,
      "outputs": [
        {
          "output_type": "stream",
          "name": "stdout",
          "text": [
            "Looking in indexes: https://pypi.org/simple, https://us-python.pkg.dev/colab-wheels/public/simple/\n",
            "Collecting en-core-web-sm==3.0.0\n",
            "  Downloading https://github.com/explosion/spacy-models/releases/download/en_core_web_sm-3.0.0/en_core_web_sm-3.0.0-py3-none-any.whl (13.7 MB)\n",
            "\u001b[K     |████████████████████████████████| 13.7 MB 54.3 MB/s \n",
            "\u001b[?25hRequirement already satisfied: spacy<3.1.0,>=3.0.0 in /usr/local/lib/python3.7/dist-packages (from en-core-web-sm==3.0.0) (3.0.8)\n",
            "Requirement already satisfied: preshed<3.1.0,>=3.0.2 in /usr/local/lib/python3.7/dist-packages (from spacy<3.1.0,>=3.0.0->en-core-web-sm==3.0.0) (3.0.7)\n",
            "Requirement already satisfied: numpy>=1.15.0 in /usr/local/lib/python3.7/dist-packages (from spacy<3.1.0,>=3.0.0->en-core-web-sm==3.0.0) (1.21.6)\n",
            "Requirement already satisfied: pydantic!=1.8,!=1.8.1,<1.9.0,>=1.7.4 in /usr/local/lib/python3.7/dist-packages (from spacy<3.1.0,>=3.0.0->en-core-web-sm==3.0.0) (1.8.2)\n",
            "Requirement already satisfied: spacy-legacy<3.1.0,>=3.0.5 in /usr/local/lib/python3.7/dist-packages (from spacy<3.1.0,>=3.0.0->en-core-web-sm==3.0.0) (3.0.10)\n",
            "Requirement already satisfied: catalogue<2.1.0,>=2.0.4 in /usr/local/lib/python3.7/dist-packages (from spacy<3.1.0,>=3.0.0->en-core-web-sm==3.0.0) (2.0.8)\n",
            "Requirement already satisfied: typing-extensions<4.0.0.0,>=3.7.4 in /usr/local/lib/python3.7/dist-packages (from spacy<3.1.0,>=3.0.0->en-core-web-sm==3.0.0) (3.10.0.2)\n",
            "Requirement already satisfied: thinc<8.1.0,>=8.0.3 in /usr/local/lib/python3.7/dist-packages (from spacy<3.1.0,>=3.0.0->en-core-web-sm==3.0.0) (8.0.17)\n",
            "Requirement already satisfied: wasabi<1.1.0,>=0.8.1 in /usr/local/lib/python3.7/dist-packages (from spacy<3.1.0,>=3.0.0->en-core-web-sm==3.0.0) (0.10.1)\n",
            "Requirement already satisfied: packaging>=20.0 in /usr/local/lib/python3.7/dist-packages (from spacy<3.1.0,>=3.0.0->en-core-web-sm==3.0.0) (21.3)\n",
            "Requirement already satisfied: blis<0.8.0,>=0.4.0 in /usr/local/lib/python3.7/dist-packages (from spacy<3.1.0,>=3.0.0->en-core-web-sm==3.0.0) (0.7.8)\n",
            "Requirement already satisfied: pathy>=0.3.5 in /usr/local/lib/python3.7/dist-packages (from spacy<3.1.0,>=3.0.0->en-core-web-sm==3.0.0) (0.6.2)\n",
            "Requirement already satisfied: setuptools in /usr/local/lib/python3.7/dist-packages (from spacy<3.1.0,>=3.0.0->en-core-web-sm==3.0.0) (57.4.0)\n",
            "Requirement already satisfied: cymem<2.1.0,>=2.0.2 in /usr/local/lib/python3.7/dist-packages (from spacy<3.1.0,>=3.0.0->en-core-web-sm==3.0.0) (2.0.6)\n",
            "Requirement already satisfied: murmurhash<1.1.0,>=0.28.0 in /usr/local/lib/python3.7/dist-packages (from spacy<3.1.0,>=3.0.0->en-core-web-sm==3.0.0) (1.0.8)\n",
            "Requirement already satisfied: jinja2 in /usr/local/lib/python3.7/dist-packages (from spacy<3.1.0,>=3.0.0->en-core-web-sm==3.0.0) (2.11.3)\n",
            "Requirement already satisfied: tqdm<5.0.0,>=4.38.0 in /usr/local/lib/python3.7/dist-packages (from spacy<3.1.0,>=3.0.0->en-core-web-sm==3.0.0) (4.64.1)\n",
            "Requirement already satisfied: srsly<3.0.0,>=2.4.1 in /usr/local/lib/python3.7/dist-packages (from spacy<3.1.0,>=3.0.0->en-core-web-sm==3.0.0) (2.4.4)\n",
            "Requirement already satisfied: requests<3.0.0,>=2.13.0 in /usr/local/lib/python3.7/dist-packages (from spacy<3.1.0,>=3.0.0->en-core-web-sm==3.0.0) (2.23.0)\n",
            "Requirement already satisfied: typer<0.4.0,>=0.3.0 in /usr/local/lib/python3.7/dist-packages (from spacy<3.1.0,>=3.0.0->en-core-web-sm==3.0.0) (0.3.2)\n",
            "Requirement already satisfied: zipp>=0.5 in /usr/local/lib/python3.7/dist-packages (from catalogue<2.1.0,>=2.0.4->spacy<3.1.0,>=3.0.0->en-core-web-sm==3.0.0) (3.9.0)\n",
            "Requirement already satisfied: pyparsing!=3.0.5,>=2.0.2 in /usr/local/lib/python3.7/dist-packages (from packaging>=20.0->spacy<3.1.0,>=3.0.0->en-core-web-sm==3.0.0) (3.0.9)\n",
            "Requirement already satisfied: smart-open<6.0.0,>=5.2.1 in /usr/local/lib/python3.7/dist-packages (from pathy>=0.3.5->spacy<3.1.0,>=3.0.0->en-core-web-sm==3.0.0) (5.2.1)\n",
            "Requirement already satisfied: idna<3,>=2.5 in /usr/local/lib/python3.7/dist-packages (from requests<3.0.0,>=2.13.0->spacy<3.1.0,>=3.0.0->en-core-web-sm==3.0.0) (2.10)\n",
            "Requirement already satisfied: chardet<4,>=3.0.2 in /usr/local/lib/python3.7/dist-packages (from requests<3.0.0,>=2.13.0->spacy<3.1.0,>=3.0.0->en-core-web-sm==3.0.0) (3.0.4)\n",
            "Requirement already satisfied: certifi>=2017.4.17 in /usr/local/lib/python3.7/dist-packages (from requests<3.0.0,>=2.13.0->spacy<3.1.0,>=3.0.0->en-core-web-sm==3.0.0) (2022.9.24)\n",
            "Requirement already satisfied: urllib3!=1.25.0,!=1.25.1,<1.26,>=1.21.1 in /usr/local/lib/python3.7/dist-packages (from requests<3.0.0,>=2.13.0->spacy<3.1.0,>=3.0.0->en-core-web-sm==3.0.0) (1.25.11)\n",
            "Requirement already satisfied: click<7.2.0,>=7.1.1 in /usr/local/lib/python3.7/dist-packages (from typer<0.4.0,>=0.3.0->spacy<3.1.0,>=3.0.0->en-core-web-sm==3.0.0) (7.1.2)\n",
            "Requirement already satisfied: MarkupSafe>=0.23 in /usr/local/lib/python3.7/dist-packages (from jinja2->spacy<3.1.0,>=3.0.0->en-core-web-sm==3.0.0) (2.0.1)\n",
            "\u001b[38;5;2m✔ Download and installation successful\u001b[0m\n",
            "You can now load the package via spacy.load('en_core_web_sm')\n"
          ]
        }
      ]
    },
    {
      "cell_type": "code",
      "source": [
        "from allennlp.predictors.predictor import Predictor\n",
        "import allennlp_models.tagging\n",
        "\n",
        "coref = Predictor.from_path(\"https://storage.googleapis.com/allennlp-public-models/coref-spanbert-large-2021.03.10.tar.gz\")\n",
        "openie = Predictor.from_path(\"https://storage.googleapis.com/allennlp-public-models/openie-model.2020.03.26.tar.gz\")\n",
        "srlbert = Predictor.from_path(\"https://storage.googleapis.com/allennlp-public-models/structured-prediction-srl-bert.2020.12.15.tar.gz\")"
      ],
      "metadata": {
        "id": "4-6gDAMSAiei"
      },
      "execution_count": null,
      "outputs": []
    },
    {
      "cell_type": "code",
      "source": [
        "import nltk\n",
        "nltk.download('punkt')\n",
        "\n",
        "def pick_sentence(paragraph):\n",
        "    sentences = nltk.tokenize.sent_tokenize(paragraph)\n",
        "    for s in sentences:\n",
        "        if \"[V:\" in s:\n",
        "            return s\n"
      ],
      "metadata": {
        "colab": {
          "base_uri": "https://localhost:8080/"
        },
        "id": "R1z5vAAYJY9C",
        "outputId": "89918b1f-347c-4c6e-8700-80da3cd1e4e7"
      },
      "execution_count": null,
      "outputs": [
        {
          "output_type": "stream",
          "name": "stderr",
          "text": [
            "[nltk_data] Downloading package punkt to /root/nltk_data...\n",
            "[nltk_data]   Package punkt is already up-to-date!\n"
          ]
        }
      ]
    },
    {
      "cell_type": "code",
      "source": [
        "final = {}\n",
        "\n",
        "documents = {\n",
        "    'corporate_structure':'Within the general field of corporate public relations is a specific subdivision referred to as investor relations (IR). IR involves elements of communication, marketing, and finance and is designed to control the flow of information from the management of a public corporation to its investors and stakeholders. Because the investment community plays such a critical role in the overall growth and success of any corporation, it is imperative that firms maintain strong and open relationships with their shareholder or potential investor audience. IR was developed to take responsibility for achieving and maintaining these crucial relationships.',\n",
        "    'economics': 'An interest rate is the rental price of money. The concepts of supply, demand and equilibrium apply in this market just as they do in other markets. This market is referred to as the market for loanable funds. In the market for loanable funds, the suppliers of funds are economic entities that currently have a surplus in their budget. In other words, they have more income than they currently want to spend; they would like to save some of their money and spend it in future time periods. Instead of just putting these savings in a box on a shelf for safekeeping until they want to spend it, they can let someone else borrow that money. In essence, they are renting that money to someone else, who pays a rental price called the interest rate.',\n",
        "    'accounting': 'Cash-basis accounting can be more efficient and well-suited for certain types of businesses, such as farming or professional services provided by lawyers and doctors. However, the accrual basis of accounting is theoretically preferable to the cash basis of accounting because it takes into account the timing of the transactions (when goods and services are provided and when the cash involved in the transactions is received). Cash can often be received a significant amount of time after the initial transaction. Considering this amount allows accountants to provide, in a timely manner, relevant and complete information to stakeholders.',\n",
        "    'financial': 'People say that accounting is the “language of business.” Using the language of business, accountants are able to communicate the financial performance and health of a firm via four key financial statements. These statements are the income statement, balance sheet, statement of owner’s equity, and statement of cash flows. Each statement provides different insights into a firm’s performance and financial health. Though some users may favor one or two statements over another, they are best used together to get a full picture.',\n",
        "    'crypto': '''Most books on bitcoin feature a lengthy chapter about who Mr Nakamoto may be. Each has its own theory, often based on the same sources. Some locate him in Britain (because of his use of Britishisms, such as “bloody hard”). Others reckon he is somewhere in the eastern parts of the Americas (because of the timestamps on his e-mails). He has been variously identified as a Finnish sociologist, a Japanese mathematician and an Irish student. The names mentioned most often are Nick Szabo and Hal Finney, two American cryptographers, but the former denies it and the latter died in 2014. In March last year Newsweek, a magazine, identified a man living in California, named Dorian Satoshi Nakamoto, as the real Nakamoto—which turned out to be an embarrassing (and predictable) canard. Then there is the argument that Mr Nakamoto's bitcoin code is so good that it must have been written by more than one person.''',\n",
        "    'JPMC': 'JPMorgan Chase & Co. is an American multinational investment bank and financial services holding company headquartered in New York City and incorporated in Delaware. As of 2022, JPMorgan Chase is the largest bank in the United States, the world’s largest bank by market capitalization, and the fifth largest bank in the world in terms of total assets with total assets if US$3.954 trillion. Additionally, JPMorgan Chase is ranked 24th on the Fortune 500 list of the largest United States corporations by total revenue.',\n",
        "    'google': 'Sundar Pichai, CEO of Alphabet and Google, said: “In the second quarter of 2022 our performance was driven by Search and Cloud. The investments we’ve made over the years in AI and computing are helping to make our services particularly valuable for consumers, and highly effective for businesses of all sizes. As we sharpen our focus, we’ll continue to invest responsibly in deep computer science for the long-term.” Ruth Porat, CFO of Alphabet and Google, said: “Our consistent investments to support long-term growth are reflected in our solid performance in the second quarter of 2022, with revenues of $69.7 billion in the quarter, up 13% versus last year or 16% on a constant currency basis.”',\n",
        "    'apple': '''Who Owns the Most Apple Stock?The biggest individual insider shareholder of Apple is Arthur Levinson, who has been the company's chair of the board since 2011. As of Feb. 2, 2021, Levinson owns 4.5 million shares of Apple stock.The biggest institutional shareholder of Apple is The Vanguard Group, which owns 1.3 billion shares, representing 7.8% of total shares outstanding, according to the company's most recent proxy filing, reflecting the number of shares as of Jan. 5, 2021.'''\n",
        "}\n"
      ],
      "metadata": {
        "id": "P7fWWOXxAxjV"
      },
      "execution_count": null,
      "outputs": []
    },
    {
      "cell_type": "code",
      "source": [
        "for doc_key in documents:\n",
        "    text = documents[doc_key]\n",
        "    text_coref = coref.coref_resolved(document=text)\n",
        "    srloutput = srlbert.predict(text_coref)\n",
        "    outputlist = list(map(lambda x: x['description'], srloutput['verbs']))\n",
        "    picked = list(map(lambda x: pick_sentence(x), outputlist))\n",
        "    filtered = list(filter(lambda x: '[ARG' in x, picked))\n",
        "    final[doc_key] = filtered\n"
      ],
      "metadata": {
        "id": "vmMYp3iv4W2c"
      },
      "execution_count": null,
      "outputs": []
    },
    {
      "cell_type": "code",
      "source": [
        "for key, val in final.items():\n",
        "    print(key)\n",
        "    for v in val:\n",
        "        print(v)\n",
        "    print()"
      ],
      "metadata": {
        "colab": {
          "base_uri": "https://localhost:8080/"
        },
        "id": "Wu-hnZFCKpzn",
        "outputId": "f38af14b-bda2-4e4a-9969-9575d8064e04"
      },
      "execution_count": null,
      "outputs": [
        {
          "output_type": "stream",
          "name": "stdout",
          "text": [
            "corporate_structure\n",
            "[ARG2: Within the general field of corporate public relations] [V: is] [ARG1: a specific subdivision referred to as investor relations ( IR )] .\n",
            "Within the general field of corporate public relations is [ARG1: a specific subdivision] [V: referred] to [ARG2: as investor relations ( IR )] .\n",
            "[ARG2: investor relations ( IR )] [V: involves] [ARG1: elements of communication , marketing , and finance] and is designed to control the flow of information from the management of a public corporation to a public corporation 's investors and stakeholders .\n",
            "[ARG1: investor relations ( IR )] involves elements of communication , marketing , and finance and is [V: designed] [ARG3: to control the flow of information from the management of a public corporation to a public corporation 's investors and stakeholders] .\n",
            "[ARG0: investor relations ( IR )] involves elements of communication , marketing , and finance and is designed to [V: control] [ARG1: the flow of information from the management of a public corporation to a public corporation 's investors and stakeholders] .\n",
            "Because [ARG0: the investment community] [V: plays] [ARG1: such a critical role] [ARGM-ADV: in the overall growth and success of any corporation] , it is imperative that firms maintain strong and open relationships with firms 's shareholder or potential investor audience .\n",
            "[ARGM-CAU: Because the investment community plays such a critical role in the overall growth and success of any corporation] , it [V: is] [ARG2: imperative] [ARG1: that firms maintain strong and open relationships with firms 's shareholder or potential investor audience] .\n",
            "Because the investment community plays such a critical role in the overall growth and success of any corporation , it is imperative that [ARG0: firms] [V: maintain] [ARG1: strong and open relationships with firms 's shareholder or potential investor audience] .\n",
            "[ARG1: investor relations ( IR )] was [V: developed] [ARGM-PRP: to take responsibility for achieving and maintaining strong and open relationships with their shareholder or potential investor audience] .\n",
            "investor relations ( IR ) was developed to [V: take] [ARG1: responsibility for achieving and maintaining strong and open relationships with their shareholder or potential investor audience] .\n",
            "investor relations ( IR ) was developed to take responsibility for [V: achieving] and maintaining [ARG1: strong and open relationships with their shareholder or potential investor audience] .\n",
            "investor relations ( IR ) was developed to take responsibility for achieving and [V: maintaining] [ARG1: strong and open relationships with their shareholder or potential investor audience] .\n",
            "\n",
            "economics\n",
            "[ARG1: An interest rate] [V: is] [ARG2: the rental price of money] .\n",
            "[ARG1: The concepts of supply , demand and equilibrium] [V: apply] [ARG2: in this market] [ARGM-MNR: just as The concepts of supply , demand and equilibrium do in other markets .\n",
            "The concepts of supply , demand and equilibrium apply in this market just as [ARG0: The concepts of supply , demand and equilibrium] [V: do] in other markets .\n",
            "this market is [V: referred] [ARG1: to] [ARG2: as the market for loanable funds] .\n",
            "[ARGM-LOC: In this market] , [ARG1: the suppliers of funds] [V: are] [ARG2: economic entities that currently have a surplus in the suppliers of funds 's budget] .\n",
            "In this market , the suppliers of funds are [ARG0: economic entities] [R-ARG0: that] [ARGM-TMP: currently] [V: have] [ARG1: a surplus in the suppliers of funds 's budget] .\n",
            "[ARGM-DIS: In other words] , [ARG0: the suppliers of funds] [V: have] [ARG1: more income than the suppliers of funds currently want to spend] ; the suppliers of funds would like to save some of the suppliers of funds 's money and spend some of their money in future time periods .\n",
            "In other words , the suppliers of funds have more income than [ARG0: the suppliers of funds] [ARGM-TMP: currently] [V: want] [ARG1: to spend] ; the suppliers of funds would like to save some of the suppliers of funds 's money and spend some of their money in future time periods .\n",
            "In other words , the suppliers of funds have more income than the suppliers of funds currently want to spend ; [ARG0: the suppliers of funds] [ARGM-MOD: would] [V: like] [ARG1: to save some of the suppliers of funds 's money and spend some of their money in future time periods] .\n",
            "In other words , the suppliers of funds have more income than the suppliers of funds currently want to spend ; [ARG0: the suppliers of funds] would like to [V: save] [ARG1: some of the suppliers of funds 's money] and spend some of their money in future time periods .\n",
            "In other words , the suppliers of funds have more income than the suppliers of funds currently want to spend ; [ARG0: the suppliers of funds] would like to save some of [ARG3: the suppliers of funds 's money] and [V: spend] [ARG3: some of their money] [ARGM-TMP: in future time periods] .\n",
            "Instead of [ARGM-ADV: just] [V: putting] [ARG1: some of their money] [ARG2: in a box] [ARG2: on a shelf] [ARGM-PRP: for safekeeping] [ARGM-TMP: until the suppliers of funds want to spend some of their money] , the suppliers of funds can let someone else borrow some of their money .\n",
            "Instead of just putting some of their money in a box on a shelf for safekeeping until [ARG0: the suppliers of funds] [V: want] [ARG1: to spend some of their money] , the suppliers of funds can let someone else borrow some of their money .\n",
            "Instead of just putting some of their money in a box on a shelf for safekeeping until [ARG0: the suppliers of funds] want to [V: spend] [ARG3: some of their money] , the suppliers of funds can let someone else borrow some of their money .\n",
            "[ARGM-ADV: Instead of just] putting some of their money [ARGM-ADV: in a box on a shelf for safekeeping until the suppliers of funds want to spend some of their money] , [ARG0: the suppliers of funds] [ARGM-MOD: can] [V: let] [ARG1: someone else borrow some of their money] .\n",
            "Instead of just putting some of their money in a box on a shelf for safekeeping until the suppliers of funds want to spend some of their money , the suppliers of funds can let [ARG0: someone else] [V: borrow] [ARG1: some of their money] .\n",
            "[ARGM-ADV: In essence] , [ARG0: the suppliers of funds] are [V: renting] [ARG1: some of their money] [ARG2: to someone else] .\n",
            "\n",
            "accounting\n",
            "[ARG1: Cash - basis accounting] [ARGM-MOD: can] [V: be] [ARG2: more efficient and well - suited for certain types of businesses , such as farming or professional services provided by lawyers and doctors] .\n",
            "[ARG1: Cash - basis accounting] [ARGM-MOD: can] be [ARGM-MNR: more] efficient and [ARGM-MNR: well] - [V: suited] [ARG2: for certain types of businesses , such as farming or professional services provided by lawyers and doctors] .\n",
            "Cash - basis accounting can be more efficient and well - suited for certain types of businesses , such as [ARG1: farming or professional services] [V: provided] [ARG0: by lawyers and doctors] .\n",
            "[ARGM-ADV: However] , [ARG1: the accrual basis of accounting] [V: is] [ARG2: theoretically preferable to Cash - basis accounting] [ARGM-CAU: because the accrual basis of accounting takes into account the timing of the transactions ( when goods and services are provided and when the cash involved in the transactions is received ) .\n",
            "However , the accrual basis of accounting is theoretically preferable to Cash - basis accounting because [ARG0: the accrual basis of accounting] [V: takes] [ARG2: into account] [ARG1: the timing of the transactions ( when goods and services are provided and when the cash involved in the transactions is received )] .\n",
            "However , the accrual basis of accounting is theoretically preferable to Cash - basis accounting because the accrual basis of accounting takes into account the timing of the transactions ( [ARGM-TMP: when] [ARG1: goods and services] are [V: provided] and when the cash involved in the transactions is received ) .\n",
            "However , the accrual basis of accounting is theoretically preferable to Cash - basis accounting because the accrual basis of accounting takes into account the timing of the transactions ( when goods and services are provided and [ARGM-TMP: when] [ARG1: the cash] [V: involved] [ARG2: in the transactions] is received ) .\n",
            "However , the accrual basis of accounting is theoretically preferable to Cash - basis accounting because the accrual basis of accounting takes into account the timing of the transactions ( when goods and services are provided and [ARGM-TMP: when] [ARG1: the cash involved in the transactions] is [V: received] ) .\n",
            "[ARG1: Cash] [ARGM-MOD: can] [ARGM-TMP: often] be [V: received] [ARG1: a significant amount of time] [ARGM-TMP: after the initial transaction] .\n",
            "[V: Considering] [ARG1: a significant amount of time] allows accountants to provide , in a timely manner , relevant and complete information to stakeholders .\n",
            "[ARG0: Considering a significant amount of time] [V: allows] [ARG1: accountants to provide , in a timely manner , relevant and complete information to stakeholders] .\n",
            "Considering a significant amount of time allows [ARG0: accountants] to [V: provide] , [ARGM-MNR: in a timely manner] , [ARG1: relevant and complete information] [ARG2: to stakeholders] .\n",
            "\n",
            "financial\n",
            "[ARG0: People] [V: say] [ARG1: that accounting is the “ language of business .\n",
            "People say that [ARG1: accounting] [V: is] [ARG2: the “ language of business] .\n",
            "” [V: Using] [ARG1: the “ language of business] , accountants are able to communicate the financial performance and health of a firm via four key financial statements .\n",
            "” [ARGM-MNR: Using the “ language of business] , [ARG1: accountants] [V: are] [ARG2: able to communicate the financial performance and health of a firm via four key financial statements] .\n",
            "” Using the “ language of business , [ARG0: accountants] are able to [V: communicate] [ARG1: the financial performance and health of a firm] [ARGM-MNR: via four key financial statements] .\n",
            "[ARG1: four key financial statements] [V: are] [ARG2: the income statement , balance sheet , statement of owner ’s equity , and statement of cash flows] .\n",
            "[ARG0: Each statement] [V: provides] [ARG1: different insights into a firm ’s performance and financial health] .\n",
            "Though [ARG0: some users] [ARGM-MOD: may] [V: favor] [ARG1: one or two statements] [ARGM-MNR: over another] , four key financial statements are best used together to get a full picture .\n",
            "[ARGM-ADV: Though some users may favor one or two statements over another] , [ARG1: four key financial statements] are [ARGM-MNR: best] [V: used] [ARGM-MNR: together] [ARG2: to get a full picture] .\n",
            "Though some users may favor one or two statements over another , four key financial statements are best used together to [V: get] [ARG1: a full picture] .\n",
            "\n",
            "crypto\n",
            "[ARG0: Most books on bitcoin] [V: feature] [ARG1: a lengthy chapter about who Mr Nakamoto may be] .\n",
            "Most books on bitcoin feature a lengthy chapter about who [ARG1: Mr Nakamoto] [V: may] [ARG2: be] .\n",
            "Most books on bitcoin feature a lengthy chapter about [ARG2: who] [ARG1: Mr Nakamoto] [ARGM-MOD: may] [V: be] .\n",
            "[ARG0: Each] [V: has] [ARG1: Each 's own theory , often based on the same sources] .\n",
            "Each has [ARG1: Each 's own theory] , [ARGM-TMP: often] [V: based] [ARG2: on the same sources] .\n",
            "[ARG0: Others] [V: reckon] [ARG1: Mr Nakamoto is somewhere in the eastern parts of the Americas ( because of the timestamps on Mr Nakamoto 's e - mails ) .\n",
            "Others reckon [ARG1: Mr Nakamoto] [V: is] [ARG2: somewhere in the eastern parts of the Americas] ( [ARGM-CAU: because of the timestamps on Mr Nakamoto 's e - mails] ) .\n",
            "[ARG1: Mr Nakamoto] has been [ARGM-MNR: variously] [V: identified] [ARG2: as a Finnish sociologist , a Japanese mathematician and an] Irish student .\n",
            "[ARG1: The names] [V: mentioned] [ARGM-TMP: most often] are Nick Szabo and Hal Finney , two American cryptographers , but Nick Szabo denies it and Hal Finney died in 2014 .\n",
            "[ARG1: The names mentioned most often] [V: are] [ARG2: Nick Szabo and Hal Finney ,] two American cryptographers , but Nick Szabo denies it and Hal Finney died in 2014 .\n",
            "The names mentioned most often are Nick Szabo and Hal Finney , two American cryptographers , but Nick Szabo [V: denies] [ARG1: it] and Hal Finney died in 2014 .\n",
            "The names mentioned most often are Nick Szabo and Hal Finney , two American cryptographers , but Nick Szabo denies it and [ARG1: Hal Finney] [V: died] [ARGM-TMP: in 2014] .\n",
            "In March last year [ARG0: Newsweek , a magazine] , [V: identified] [ARG1: a man living in California , named Dorian Satoshi Nakamoto] , as Mr Nakamoto — identified turned out to be an embarrassing ( and predictable ) canard .\n",
            "In March last year Newsweek , [ARG0: a] magazine , identified [ARG0: a man] [V: living] [ARGM-LOC: in California] , named Dorian Satoshi Nakamoto , as Mr Nakamoto — identified turned out to be an embarrassing ( and predictable ) canard .\n",
            "In March last year Newsweek , a magazine , identified [ARG1: a man] living in California , [V: named] [ARG2: Dorian Satoshi Nakamoto] , as Mr Nakamoto — identified turned out to be an embarrassing ( and predictable ) canard .\n",
            "In March last year Newsweek , a magazine , identified a man living in California , named Dorian Satoshi Nakamoto , as [ARG0: Mr Nakamoto —] [V: identified] turned out to be an embarrassing ( and predictable ) canard .\n",
            "In March last year Newsweek , a magazine , identified a man living in California , named Dorian Satoshi Nakamoto , as Mr Nakamoto — identified [V: turned] out [ARG1: to be an embarrassing ( and predictable ) canard] .\n",
            "In March last year Newsweek , a magazine , identified a man living in California , named Dorian Satoshi Nakamoto , as [ARG1: Mr] Nakamoto — identified turned out to [V: be] [ARG2: an embarrassing ( and predictable ) canard] .\n",
            "[ARGM-TMP: Then] there [V: is] [ARG1: the argument that Mr Nakamoto 's bitcoin code is so good that Mr Nakamoto 's bitcoin code must have been written by more than one person] .\n",
            "Then there is the argument that [ARG1: Mr Nakamoto 's bitcoin code] [V: is] [ARG2: so good that Mr Nakamoto 's bitcoin code must have been written by more than one person] .\n",
            "Then there is the argument that Mr [ARG1: Nakamoto 's bitcoin code] is so good that [ARG1: Mr Nakamoto 's bitcoin code] [ARGM-MOD: must] have been [V: written] [ARG0: by more than one person] .\n",
            "\n",
            "JPMC\n",
            "[ARG1: JPMorgan Chase & Co.] [V: is] [ARG2: an American multinational investment bank and financial services holding company headquartered in New York City and incorporated in Delaware] .\n",
            "JPMorgan Chase & Co. is an American multinational investment bank and [ARG1: financial services] [V: holding] [ARG0: company] headquartered in New York City and incorporated in Delaware .\n",
            "JPMorgan Chase & Co. is [ARG1: an American multinational investment bank and financial services holding company] [V: headquartered] [ARGM-LOC: in New York City] and incorporated in Delaware .\n",
            "JPMorgan Chase & Co. is [ARG1: an American multinational investment bank and financial services holding company] headquartered in New York City and [V: incorporated] [ARGM-LOC: in Delaware] .\n",
            "[ARGM-TMP: As of 2022] , [ARG1: JPMorgan Chase & Co.] [V: is] [ARG2: the largest bank in the United States , the world ’s largest bank by market capitalization , and the fifth largest bank in the world ’s in terms of total assets with total assets if US$ 3.954 trillion] .\n",
            "[ARGM-DIS: Additionally] , [ARG1: JPMorgan Chase & Co.] is [V: ranked] [ARG2: 24th] [ARGM-LOC: on the Fortune 500 list of the largest United States corporations] [ARGM-MNR: by] total revenue .\n",
            "\n",
            "google\n",
            "[ARG0: Sundar Pichai , CEO of Alphabet and Google ,] [V: said] : “ [ARG1: In the second quarter of 2022 Alphabet and Google 's performance was driven by Search and Cloud .\n",
            "Sundar Pichai , CEO of Alphabet and Google , said : “ [ARGM-TMP: In the second quarter of 2022] [ARG1: Alphabet and Google 's performance] was [V: driven] [ARG0: by Search and Cloud] .\n",
            "[ARG1: The investments] [ARG0: Alphabet and Google’ve] [V: made] [ARGM-TMP: over the years in AI and computing] are helping to make Alphabet and Google 's services particularly valuable for consumers , and highly effective for businesses of all sizes .\n",
            "[ARG0: The investments Alphabet and Google’ve made over the years in AI and computing] are [V: helping] [ARG1: to make Alphabet and Google 's services particularly valuable for consumers , and highly effective for businesses of all sizes] .\n",
            "[ARG0: The investments Alphabet and Google’ve made over the years in AI and computing] are helping to [V: make] [ARG1: Alphabet and Google 's services particularly valuable for consumers , and highly effective for businesses of all sizes] .\n",
            "As [ARG0: Alphabet and Google] [V: sharpen] [ARG1: Alphabet and Google 's focus] , Alphabet and Google’ll continue to invest responsibly in deep computer science for the long - term .\n",
            "[ARGM-ADV: As Alphabet and Google sharpen Alphabet and Google] 's focus , [ARG0: Alphabet and Google’ll] [V: continue] [ARG1: to invest responsibly in deep computer science for the long - term] .\n",
            "As Alphabet and Google sharpen Alphabet and Google 's focus , [ARG0: Alphabet and Google’ll] continue to [V: invest] [ARGM-MNR: responsibly] [ARG2: in deep computer science] [ARGM-TMP: for the long - term] .\n",
            "” [ARG0: Ruth Porat , CFO of Alphabet and Google ,] [V: said] : “ [ARG1: Alphabet and Google 's consistent investments to support long - term growth are reflected in Alphabet and Google 's solid performance in the second quarter of 20222022 , with revenues of $ 69.7 billion in the second quarter of 2022 , up 13 % versus last year or 16 % on a constant currency basis] .\n",
            "” Ruth Porat , CFO of Alphabet and Google , said : “ [ARG0: Alphabet and Google 's consistent investments] to [V: support] [ARG1: long - term growth] are reflected in Alphabet and Google 's solid performance in the second quarter of 20222022 , with revenues of $ 69.7 billion in the second quarter of 2022 , up 13 % versus last year or 16 % on a constant currency basis .\n",
            "” Ruth Porat , CFO of Alphabet and Google , said : “ [ARG1: Alphabet and Google 's consistent investments to support long - term growth] are [V: reflected] [ARG2: in Alphabet and Google 's solid performance in the second quarter of 20222022 , with revenues of $] [ARGM-MNR: 69.7 billion in the second quarter of 2022 , up 13 % versus last year or 16 %] [ARGM-MNR: on a constant currency basis] .\n",
            "\n",
            "apple\n",
            "[ARG0: Who] [V: Owns] [ARG1: the Most Apple Stock?The] biggest individual insider shareholder of Apple is [ARG0: Arthur] Levinson , who has been Apple 's chair of the board since 2011 .\n",
            "[ARG1: Who Owns the Most Apple Stock?The biggest individual insider shareholder of Apple] [V: is] [ARG2: Arthur Levinson , who has been Apple 's chair of the board since 2011] .\n",
            "Who Owns the Most Apple Stock?The biggest individual insider shareholder of Apple is [ARG1: Arthur Levinson] , [R-ARG1: who] has [V: been] [ARG2: Apple 's chair of the board] [ARGM-TMP: since 2011] .\n",
            "As of Feb. 2 , 2021 , [ARG1: Arthur Levinson] , [R-ARG1: who] has [V: been] [ARG2: the company 's chair of the board] [ARGM-TMP: since 2011] owns 4.5 million shares of Apple stock .\n",
            "[ARGM-TMP: As of Feb. 2 , 2021] , [ARG0: Arthur Levinson , who has been the company 's chair of the board since 2011] [V: owns] [ARG1: 4.5 million shares of Apple stock] .\n",
            "[ARG1: The biggest institutional shareholder of Apple] [V: is] [ARG2: The Vanguard Group , which owns 1.3 billion shares , representing 7.8 % of total shares outstanding ,] [ARGM-ADV: according to Apple 's] most recent proxy filing , [ARG2: reflecting the number of shares as of Jan. 5 , 2021] .\n",
            "The biggest institutional shareholder of Apple is [ARG0: The Vanguard Group] , [R-ARG0: which] [V: owns] [ARG1: 1.3 billion shares] , [ARGM-ADV: representing 7.8 % of total shares outstanding] , according to Apple 's most recent proxy filing , [ARGM-ADV: reflecting the number of shares as of Jan. 5 , 2021] .\n",
            "The biggest institutional shareholder of Apple is [ARG0: The] Vanguard Group , [R-ARG0: which] owns 1.3 billion shares , [V: representing] [ARG1: 7.8 % of total shares outstanding] , according to Apple 's most recent proxy filing , reflecting the number of shares as of Jan. 5 , 2021 .\n",
            "The biggest institutional shareholder of Apple is The Vanguard Group , which owns 1.3 billion shares , representing 7.8 % of total shares outstanding , according to Apple 's most recent proxy filing , [V: reflecting] [ARG1: the number of shares as of Jan. 5 , 2021] .\n",
            "\n"
          ]
        }
      ]
    }
  ]
}