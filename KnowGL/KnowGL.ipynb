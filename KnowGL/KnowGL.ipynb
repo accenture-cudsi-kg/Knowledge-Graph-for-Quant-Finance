{
  "nbformat": 4,
  "nbformat_minor": 0,
  "metadata": {
    "colab": {
      "provenance": [],
      "collapsed_sections": []
    },
    "kernelspec": {
      "name": "python3",
      "display_name": "Python 3"
    },
    "language_info": {
      "name": "python"
    }
  },
  "cells": [
    {
      "cell_type": "code",
      "execution_count": 1,
      "metadata": {
        "colab": {
          "base_uri": "https://localhost:8080/"
        },
        "id": "DJK4bijGBhm2",
        "outputId": "62214aa6-074a-4d3d-e09c-7ea1d6f12f5a"
      },
      "outputs": [
        {
          "output_type": "stream",
          "name": "stdout",
          "text": [
            "Looking in indexes: https://pypi.org/simple, https://us-python.pkg.dev/colab-wheels/public/simple/\n",
            "Requirement already satisfied: transformers in /usr/local/lib/python3.7/dist-packages (4.22.2)\n",
            "Requirement already satisfied: numpy>=1.17 in /usr/local/lib/python3.7/dist-packages (from transformers) (1.21.6)\n",
            "Requirement already satisfied: packaging>=20.0 in /usr/local/lib/python3.7/dist-packages (from transformers) (21.3)\n",
            "Requirement already satisfied: huggingface-hub<1.0,>=0.9.0 in /usr/local/lib/python3.7/dist-packages (from transformers) (0.10.0)\n",
            "Requirement already satisfied: pyyaml>=5.1 in /usr/local/lib/python3.7/dist-packages (from transformers) (6.0)\n",
            "Requirement already satisfied: requests in /usr/local/lib/python3.7/dist-packages (from transformers) (2.23.0)\n",
            "Requirement already satisfied: tokenizers!=0.11.3,<0.13,>=0.11.1 in /usr/local/lib/python3.7/dist-packages (from transformers) (0.12.1)\n",
            "Requirement already satisfied: importlib-metadata in /usr/local/lib/python3.7/dist-packages (from transformers) (5.0.0)\n",
            "Requirement already satisfied: filelock in /usr/local/lib/python3.7/dist-packages (from transformers) (3.8.0)\n",
            "Requirement already satisfied: tqdm>=4.27 in /usr/local/lib/python3.7/dist-packages (from transformers) (4.64.1)\n",
            "Requirement already satisfied: regex!=2019.12.17 in /usr/local/lib/python3.7/dist-packages (from transformers) (2022.6.2)\n",
            "Requirement already satisfied: typing-extensions>=3.7.4.3 in /usr/local/lib/python3.7/dist-packages (from huggingface-hub<1.0,>=0.9.0->transformers) (4.1.1)\n",
            "Requirement already satisfied: pyparsing!=3.0.5,>=2.0.2 in /usr/local/lib/python3.7/dist-packages (from packaging>=20.0->transformers) (3.0.9)\n",
            "Requirement already satisfied: zipp>=0.5 in /usr/local/lib/python3.7/dist-packages (from importlib-metadata->transformers) (3.8.1)\n",
            "Requirement already satisfied: idna<3,>=2.5 in /usr/local/lib/python3.7/dist-packages (from requests->transformers) (2.10)\n",
            "Requirement already satisfied: certifi>=2017.4.17 in /usr/local/lib/python3.7/dist-packages (from requests->transformers) (2022.9.24)\n",
            "Requirement already satisfied: urllib3!=1.25.0,!=1.25.1,<1.26,>=1.21.1 in /usr/local/lib/python3.7/dist-packages (from requests->transformers) (1.24.3)\n",
            "Requirement already satisfied: chardet<4,>=3.0.2 in /usr/local/lib/python3.7/dist-packages (from requests->transformers) (3.0.4)\n"
          ]
        }
      ],
      "source": [
        "!pip install transformers"
      ]
    },
    {
      "cell_type": "code",
      "source": [
        "# Function to parse the generated text and extract the triplets\n",
        "def extract_triplets(text):\n",
        "    triplets = []\n",
        "    for i in text.replace(\"<s>\", \"\").replace(\"</s>\", \"\").split(\"$\"):\n",
        "      dd = i.split(\"|\")\n",
        "      res_dict = {}\n",
        "      res_dict[\"head\"] = dd[0].replace(\"[\", \"\").replace(\"]\", \"\")\n",
        "      res_dict[\"relation\"] = dd[1].replace(\"[\", \"\").replace(\"]\", \"\")\n",
        "      res_dict[\"tail\"] = dd[2].replace(\"[\", \"\").replace(\"]\", \"\")\n",
        "      triplets.append(res_dict)\n",
        "    return triplets"
      ],
      "metadata": {
        "id": "vP9cCbR4dIpj"
      },
      "execution_count": 2,
      "outputs": []
    },
    {
      "cell_type": "markdown",
      "source": [
        "## Example 1"
      ],
      "metadata": {
        "id": "nCwnW21YepNT"
      }
    },
    {
      "cell_type": "code",
      "source": [
        "from transformers.pipelines import text2text_generation\n",
        "from transformers import pipeline\n",
        "\n",
        "triplet_extractor = pipeline('text2text-generation', model='ibm/knowgl-large', tokenizer='ibm/knowgl-large')\n",
        "\n",
        "# We need to use the tokenizer manually since we need special tokens.\n",
        "str_data = \"\"\"Stocks continued to recover from oversold levels, with traders weighing renewed speculation that global central banks could moderate their hawkish stance to prevent a hard landing. The S&P 500 is having its best two-day surge since November 2020. On top of the obvious short squeeze, a soft economic reading gave bulls a reason for hope when it comes to Federal Reserve policy. US job openings sank to a 14-month low—which may fit well with a central bank that’s very concerned about a hot jobs market. Bond yields fell with the dollar. Traders also kept a close eye on Tesla Inc., which pared gains substantially on news that Elon Musk is proposing to buy Twitter Inc. for the original offer price of $54.20 a share. At midday, the S&P 500 was up 2.37% and the Dow was up 2.15%. The debate over peak hawkishness has intensified after a dovish surprise from Australia’s central bank and bond buying by the Bank of England. The idea of a Fed pivot, however, has been met with a lot of skepticism. For one, there’s the perception that not much has fundamentally changed to sway officials from their primary goal to knock down inflation. Then, there’s the fact that stock pessimism reached such extreme levels that a bounce would be just a matter of when. For markets that had been “nearly one-sided,” the liquidation of those positions is a big reason to squeeze in the other direction so vigorously. For one, there’s the perception that not much has fundamentally changed to sway officials from their primary goal to knock down inflation. Then, there’s the fact that stock pessimism reached such extreme levels that a bounce would be just a matter of when. For markets that had been “nearly one-sided,” the liquidation of those positions is a big reason to squeeze in the other direction so vigorously.\"\"\"\n",
        "\n",
        "import nltk\n",
        "nltk.download('punkt')\n",
        "data = nltk.tokenize.sent_tokenize(str_data)\n",
        "data"
      ],
      "metadata": {
        "colab": {
          "base_uri": "https://localhost:8080/"
        },
        "id": "JWcngDK6BmJW",
        "outputId": "da63ab11-c275-4cd5-fec6-7988c98a4a01"
      },
      "execution_count": 3,
      "outputs": [
        {
          "output_type": "stream",
          "name": "stderr",
          "text": [
            "[nltk_data] Downloading package punkt to /root/nltk_data...\n",
            "[nltk_data]   Package punkt is already up-to-date!\n"
          ]
        },
        {
          "output_type": "execute_result",
          "data": {
            "text/plain": [
              "['Stocks continued to recover from oversold levels, with traders weighing renewed speculation that global central banks could moderate their hawkish stance to prevent a hard landing.',\n",
              " 'The S&P 500 is having its best two-day surge since November 2020.',\n",
              " 'On top of the obvious short squeeze, a soft economic reading gave bulls a reason for hope when it comes to Federal Reserve policy.',\n",
              " 'US job openings sank to a 14-month low—which may fit well with a central bank that’s very concerned about a hot jobs market.',\n",
              " 'Bond yields fell with the dollar.',\n",
              " 'Traders also kept a close eye on Tesla Inc., which pared gains substantially on news that Elon Musk is proposing to buy Twitter Inc. for the original offer price of $54.20 a share.',\n",
              " 'At midday, the S&P 500 was up 2.37% and the Dow was up 2.15%.',\n",
              " 'The debate over peak hawkishness has intensified after a dovish surprise from Australia’s central bank and bond buying by the Bank of England.',\n",
              " 'The idea of a Fed pivot, however, has been met with a lot of skepticism.',\n",
              " 'For one, there’s the perception that not much has fundamentally changed to sway officials from their primary goal to knock down inflation.',\n",
              " 'Then, there’s the fact that stock pessimism reached such extreme levels that a bounce would be just a matter of when.',\n",
              " 'For markets that had been “nearly one-sided,” the liquidation of those positions is a big reason to squeeze in the other direction so vigorously.',\n",
              " 'For one, there’s the perception that not much has fundamentally changed to sway officials from their primary goal to knock down inflation.',\n",
              " 'Then, there’s the fact that stock pessimism reached such extreme levels that a bounce would be just a matter of when.',\n",
              " 'For markets that had been “nearly one-sided,” the liquidation of those positions is a big reason to squeeze in the other direction so vigorously.']"
            ]
          },
          "metadata": {},
          "execution_count": 3
        }
      ]
    },
    {
      "cell_type": "code",
      "source": [
        "for i in data:\n",
        "  extracted_text = triplet_extractor.tokenizer.batch_decode([triplet_extractor(i, return_tensors=True, return_text=False)[0][\"generated_token_ids\"]])\n",
        "  print(extracted_text[0])\n",
        "  extracted_triplets = extract_triplets(extracted_text[0])\n",
        "  print(extracted_triplets)"
      ],
      "metadata": {
        "colab": {
          "base_uri": "https://localhost:8080/"
        },
        "id": "qLjZEcnqdK_S",
        "outputId": "b3890a59-39b4-4bde-ff24-5209dfa38720"
      },
      "execution_count": 4,
      "outputs": [
        {
          "output_type": "stream",
          "name": "stdout",
          "text": [
            "<s><s>[(hawkish#Hawkish monetary policy#monetary policy)|facet of|(central bank#Central bank#bank)]</s>\n",
            "[{'head': '(hawkish#Hawkish monetary policy#monetary policy)', 'relation': 'facet of', 'tail': '(central bank#Central bank#bank)'}]\n",
            "<s><s>[(November 2020#November 2020 S&P 500 Index rally#stock market rally)|part of|(S&P 500#S&P 500 Index#stock market index)]</s>\n",
            "[{'head': '(November 2020#November 2020 S&P 500 Index rally#stock market rally)', 'relation': 'part of', 'tail': '(S&P 500#S&P 500 Index#stock market index)'}]\n",
            "<s><s>[(Federal Reserve#Federal Reserve#central bank)|instance of|(policy#Central bank#bank)]</s>\n",
            "[{'head': '(Federal Reserve#Federal Reserve#central bank)', 'relation': 'instance of', 'tail': '(policy#Central bank#bank)'}]\n",
            "<s><s>[(US job openings#Job openings in the United States#None)|facet of|(hot jobs market#Great Recession#recession)]</s>\n",
            "[{'head': '(US job openings#Job openings in the United States#None)', 'relation': 'facet of', 'tail': '(hot jobs market#Great Recession#recession)'}]\n",
            "<s><s>[(Bond yields#Yield (finance)#unit of measurement)|facet of|(dollar#Dollar#currency)]</s>\n",
            "[{'head': '(Bond yields#Yield (finance)#unit of measurement)', 'relation': 'facet of', 'tail': '(dollar#Dollar#currency)'}]\n",
            "<s><s>[(Tesla Inc.#Tesla, Inc.#enterprise)|chief executive officer|(Elon Musk#Elon Musk#human)]</s>\n",
            "[{'head': '(Tesla Inc.#Tesla, Inc.#enterprise)', 'relation': 'chief executive officer', 'tail': '(Elon Musk#Elon Musk#human)'}]\n",
            "<s><s>[(S&P 500#S&P 500 Index#stock market index)|stock market index|(Dow#Dow Jones Industrial Average#stock market index)]</s>\n",
            "[{'head': '(S&P 500#S&P 500 Index#stock market index)', 'relation': 'stock market index', 'tail': '(Dow#Dow Jones Industrial Average#stock market index)'}]\n",
            "<s><s>[(Bank of England#Bank of England#business)|instance of|(central bank#Central bank#bank)]</s>\n",
            "[{'head': '(Bank of England#Bank of England#business)', 'relation': 'instance of', 'tail': '(central bank#Central bank#bank)'}]\n",
            "<s><s>[(Fed pivot#Pivot of the Federal Reserve#None)|facet of|(Fed#Federal Reserve#central bank)]</s>\n",
            "[{'head': '(Fed pivot#Pivot of the Federal Reserve#None)', 'relation': 'facet of', 'tail': '(Fed#Federal Reserve#central bank)'}]\n",
            "<s><s>[(Bernard Spindler#Bernard Spindler#human)|position held|(Federal Reserve Board of Governors#Federal Reserve Board of Governors#independent agency of the United States government)]</s>\n",
            "[{'head': '(Bernard Spindler#Bernard Spindler#human)', 'relation': 'position held', 'tail': '(Federal Reserve Board of Governors#Federal Reserve Board of Governors#independent agency of the United States government)'}]\n",
            "<s><s>[(Wall Street Journal#Wall Street Journal#newspaper)|owned by|(The New York Times#The New York Times#daily newspaper)]$[(The New York Times#The New York Times#daily newspaper)|owner of|(Wall Street Journal#Wall Street Journal#newspaper)]</s>\n",
            "[{'head': '(Wall Street Journal#Wall Street Journal#newspaper)', 'relation': 'owned by', 'tail': '(The New York Times#The New York Times#daily newspaper)'}, {'head': '(The New York Times#The New York Times#daily newspaper)', 'relation': 'owner of', 'tail': '(Wall Street Journal#Wall Street Journal#newspaper)'}]\n",
            "<s><s>[(Bernanke#Bernanke#human)|member of political party|(Democratic Party#Democratic Party (United States)#political party)]</s>\n",
            "[{'head': '(Bernanke#Bernanke#human)', 'relation': 'member of political party', 'tail': '(Democratic Party#Democratic Party (United States)#political party)'}]\n",
            "<s><s>[(Bernard Spindler#Bernard Spindler#human)|position held|(Federal Reserve Board of Governors#Federal Reserve Board of Governors#independent agency of the United States government)]</s>\n",
            "[{'head': '(Bernard Spindler#Bernard Spindler#human)', 'relation': 'position held', 'tail': '(Federal Reserve Board of Governors#Federal Reserve Board of Governors#independent agency of the United States government)'}]\n",
            "<s><s>[(Wall Street Journal#Wall Street Journal#newspaper)|owned by|(The New York Times#The New York Times#daily newspaper)]$[(The New York Times#The New York Times#daily newspaper)|owner of|(Wall Street Journal#Wall Street Journal#newspaper)]</s>\n",
            "[{'head': '(Wall Street Journal#Wall Street Journal#newspaper)', 'relation': 'owned by', 'tail': '(The New York Times#The New York Times#daily newspaper)'}, {'head': '(The New York Times#The New York Times#daily newspaper)', 'relation': 'owner of', 'tail': '(Wall Street Journal#Wall Street Journal#newspaper)'}]\n",
            "<s><s>[(Bernanke#Bernanke#human)|member of political party|(Democratic Party#Democratic Party (United States)#political party)]</s>\n",
            "[{'head': '(Bernanke#Bernanke#human)', 'relation': 'member of political party', 'tail': '(Democratic Party#Democratic Party (United States)#political party)'}]\n"
          ]
        }
      ]
    },
    {
      "cell_type": "markdown",
      "source": [
        "## Example 2"
      ],
      "metadata": {
        "id": "UA9PQt9oeuED"
      }
    },
    {
      "cell_type": "code",
      "source": [
        "str_data = \"\"\"Bonds are a basic form of investment that typically include a straightforward financial agreement between issuer and purchaser. Nevertheless, the terminology surrounding bonds is unique and rather extensive. Much of the specialized vocabulary surrounding bonds is designed to convey the concept that a bond is similar to other financial instruments in that it is an investment that can be bought and sold. Much of this unique terminology will be covered later in this chapter, but we can set out some of the basics here with an example.\"\"\"\n",
        "data = nltk.tokenize.sent_tokenize(str_data)\n",
        "data"
      ],
      "metadata": {
        "colab": {
          "base_uri": "https://localhost:8080/"
        },
        "id": "rv6XJgWVaGGs",
        "outputId": "f8d6d761-ca13-47f0-a004-6653cc7529b5"
      },
      "execution_count": 5,
      "outputs": [
        {
          "output_type": "execute_result",
          "data": {
            "text/plain": [
              "['Bonds are a basic form of investment that typically include a straightforward financial agreement between issuer and purchaser.',\n",
              " 'Nevertheless, the terminology surrounding bonds is unique and rather extensive.',\n",
              " 'Much of the specialized vocabulary surrounding bonds is designed to convey the concept that a bond is similar to other financial instruments in that it is an investment that can be bought and sold.',\n",
              " 'Much of this unique terminology will be covered later in this chapter, but we can set out some of the basics here with an example.']"
            ]
          },
          "metadata": {},
          "execution_count": 5
        }
      ]
    },
    {
      "cell_type": "code",
      "source": [
        "for i in data:\n",
        "  extracted_text = triplet_extractor.tokenizer.batch_decode([triplet_extractor(i, return_tensors=True, return_text=False)[0][\"generated_token_ids\"]])\n",
        "  print(extracted_text[0])\n",
        "  extracted_triplets = extract_triplets(extracted_text[0])\n",
        "  print(extracted_triplets)"
      ],
      "metadata": {
        "colab": {
          "base_uri": "https://localhost:8080/"
        },
        "id": "oohwhKbAe8RN",
        "outputId": "368ca554-d86c-4e27-8118-0ab5dde103a8"
      },
      "execution_count": 6,
      "outputs": [
        {
          "output_type": "stream",
          "name": "stdout",
          "text": [
            "<s><s>[(Bond#Bond (finance)#loan)|subclass of|(investment#Investment#purchasing)]</s>\n",
            "[{'head': '(Bond#Bond (finance)#loan)', 'relation': 'subclass of', 'tail': '(investment#Investment#purchasing)'}]\n",
            "<s><s>[(bond#Bond (mathematics)#mathematical object)|said to be the same as|(unique#Bond (mathematics)#mathematical object)]$[(unique#Bond (mathematics)#mathematical object)|said to be the same as|(bond#Bond (mathematics)#mathematical object)]</s>\n",
            "[{'head': '(bond#Bond (mathematics)#mathematical object)', 'relation': 'said to be the same as', 'tail': '(unique#Bond (mathematics)#mathematical object)'}, {'head': '(unique#Bond (mathematics)#mathematical object)', 'relation': 'said to be the same as', 'tail': '(bond#Bond (mathematics)#mathematical object)'}]\n",
            "<s><s>[(investment#Investment#purchasing)|subclass of|(financial instrument#Financial instrument#contract)]</s>\n",
            "[{'head': '(investment#Investment#purchasing)', 'relation': 'subclass of', 'tail': '(financial instrument#Financial instrument#contract)'}]\n",
            "<s><s>[(theory#Theory#concept)|subclass of|(concept#Concept#capability)]</s>\n",
            "[{'head': '(theory#Theory#concept)', 'relation': 'subclass of', 'tail': '(concept#Concept#capability)'}]\n"
          ]
        }
      ]
    }
  ]
}